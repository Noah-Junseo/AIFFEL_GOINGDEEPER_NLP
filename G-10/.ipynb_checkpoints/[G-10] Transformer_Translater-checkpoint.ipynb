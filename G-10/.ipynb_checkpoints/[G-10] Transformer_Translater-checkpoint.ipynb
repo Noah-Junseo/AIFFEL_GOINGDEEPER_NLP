{
 "cells": [
  {
   "cell_type": "markdown",
   "id": "important-narrow",
   "metadata": {},
   "source": [
    "# NLP_GoingDeeper | P10.Transformer_Translation_Kor2Eng\n",
    "---\n",
    "- 한국어 문장을 입력으로 하여 영어로 번역된 문장을 출력하는 번역기를 만들어봅니다. \n",
    "\n",
    "아래 링크에서 **korean-english-park.train.tar.gz** 를 사용할 예정입니다.\n",
    "\n",
    "**링크 : https://github.com/jungyeul/korean-parallel-corpora/tree/master/korean-english-news-v1**\n",
    "\n",
    "AIFFEL 클라우드 환경에서 작업이 진행되므로, 별도의 설치 없이 사전에 준비되어 있는 한국어-영어 데이터쌍을 사용합니다.\n",
    "\n",
    "미리 준비되어 있는 데이터를 연결하기 위해, 아래와 같이 공유 디렉토리에 저장된 데이터를 가리키는 심볼릭 링크를 생성합니다."
   ]
  },
  {
   "cell_type": "code",
   "execution_count": 1,
   "id": "fe9939cc",
   "metadata": {},
   "outputs": [],
   "source": [
    "# 내가 시간을 측정하는 이유는 각 GPU환경에 따른 모델 속도 비교.\n",
    "import time\n",
    "start_time = time.time()"
   ]
  },
  {
   "cell_type": "code",
   "execution_count": 2,
   "id": "unable-answer",
   "metadata": {},
   "outputs": [
    {
     "name": "stdout",
     "output_type": "stream",
     "text": [
      "완료!\n"
     ]
    }
   ],
   "source": [
    "import matplotlib as mpl \n",
    "import matplotlib.pyplot as plt\n",
    "\n",
    "%config InlineBackend.figure_format = 'retina'\n",
    "\n",
    "import matplotlib.font_manager as fm\n",
    "fontpath = 'C:/Users/Noah/AppData/Local/Microsoft/Windows/Fonts/NanumGothic.ttf'\n",
    "font = fm.FontProperties(fname=fontpath, size=9)\n",
    "plt.rc('font', family='NanumGothic')\n",
    "mpl.font_manager.findfont(font)\n",
    "print(\"완료!\")"
   ]
  },
  {
   "cell_type": "code",
   "execution_count": 3,
   "id": "essential-helmet",
   "metadata": {},
   "outputs": [
    {
     "name": "stdout",
     "output_type": "stream",
     "text": [
      "2.8.0\n"
     ]
    }
   ],
   "source": [
    "import tensorflow as tf\n",
    "import numpy as np\n",
    "\n",
    "from sklearn.model_selection import train_test_split\n",
    "\n",
    "import sentencepiece as spm\n",
    "import seaborn as sns\n",
    "import matplotlib.ticker as ticker\n",
    "import matplotlib.pyplot as plt\n",
    "\n",
    "import time\n",
    "import re\n",
    "import os\n",
    "import io\n",
    "\n",
    "from tqdm import tqdm\n",
    "from tqdm import tqdm_notebook\n",
    "import random\n",
    "\n",
    "\n",
    "print(tf.__version__)"
   ]
  },
  {
   "cell_type": "code",
   "execution_count": 4,
   "id": "voluntary-melissa",
   "metadata": {},
   "outputs": [],
   "source": [
    "data_dir = 'C:/Users/Noah/aiffel/GoingDeeper/AIFFEL_GOINGDEEPER_NLP/G-10/datasets'\n",
    "kor_path = data_dir + \"/korean-english-park.train.ko\"\n",
    "eng_path = data_dir + \"/korean-english-park.train.en\""
   ]
  },
  {
   "cell_type": "code",
   "execution_count": 5,
   "id": "intensive-juvenile",
   "metadata": {
    "scrolled": true
   },
   "outputs": [
    {
     "name": "stdout",
     "output_type": "stream",
     "text": [
      "Data Size:(94123,94123)\n",
      "Example:\n",
      ">>\n",
      "한국어 : 개인용 컴퓨터 사용의 상당 부분은 \"이것보다 뛰어날 수 있느냐?\"\n",
      "영어 : Much of personal computing is about \"can you top this?\"\n",
      "\n",
      ">>\n",
      "한국어 : 모든 광마우스와 마찬가지 로 이 광마우스도 책상 위에 놓는 마우스 패드를 필요로 하지 않는다.\n",
      "영어 : so a mention a few weeks ago about a rechargeable wireless optical mouse brought in another rechargeable, wireless mouse.\n",
      "\n",
      ">>\n",
      "한국어 : 그러나 이것은 또한 책상도 필요로 하지 않는다.\n",
      "영어 : Like all optical mice, But it also doesn't need a desk.\n",
      "\n",
      ">>\n",
      "한국어 : 79.95달러하는 이 최첨단 무선 광마우스는 허공에서 팔목, 팔, 그외에 어떤 부분이든 그 움직임에따라 커서의 움직임을 조절하는 회전 운동 센서를 사용하고 있다.\n",
      "영어 : uses gyroscopic sensors to control the cursor movement as you move your wrist, arm, whatever through the air.\n",
      "\n",
      ">>\n",
      "한국어 : 정보 관리들은 동남 아시아에서의 선박들에 대한 많은 (테러) 계획들이 실패로 돌아갔음을 밝혔으며, 세계 해상 교역량의 거의 3분의 1을 운송하는 좁은 해로인 말라카 해협이 테러 공격을 당하기 쉽다고 경고하고 있다.\n",
      "영어 : Intelligence officials have revealed a spate of foiled plots on ships in Southeast Asia and are warning that a narrow stretch of water carrying almost one third of the world's maritime trade is vulnerable to a terror attack.\n",
      "\n"
     ]
    }
   ],
   "source": [
    "with open(kor_path, \"r\",encoding='utf8') as f: kor = f.read().splitlines()\n",
    "with open(eng_path, \"r\",encoding='utf8') as f: eng = f.read().splitlines()\n",
    "print(\"Data Size:({},{})\".format(len(kor), len(eng)))\n",
    "print(\"Example:\")\n",
    "\n",
    "cnt = 0\n",
    "for ko, en in zip(kor, eng):\n",
    "    print(f\">>\\n한국어 : {ko}\\n영어 : {en}\\n\")\n",
    "    cnt += 1\n",
    "    if cnt == 5:\n",
    "        break"
   ]
  },
  {
   "cell_type": "markdown",
   "id": "conditional-treasure",
   "metadata": {},
   "source": [
    "# 2. 데이터 정제 및 토큰화 \n",
    "### 1) 중복데이터 제거\n",
    "- set 데이터형이 중복을 허용하지 않는다는 것을 활용해 중복된 데이터를 제거합니다. \n",
    "- 중복을 제거한 데이터를 cleaned_corpus 에 저장합니다."
   ]
  },
  {
   "cell_type": "code",
   "execution_count": 6,
   "id": "configured-notion",
   "metadata": {},
   "outputs": [],
   "source": [
    "# 데이터 정제 및 토큰화\n",
    "def clean_corpus(kor, eng):\n",
    "    assert len(kor) == len(eng)\n",
    "    cleaned_corpus = list(set(zip(kor, eng)))\n",
    "\n",
    "    return cleaned_corpus"
   ]
  },
  {
   "cell_type": "code",
   "execution_count": 7,
   "id": "fourth-variation",
   "metadata": {},
   "outputs": [
    {
     "data": {
      "text/plain": [
       "78968"
      ]
     },
     "execution_count": 7,
     "metadata": {},
     "output_type": "execute_result"
    }
   ],
   "source": [
    "cleaned_corpus = clean_corpus(kor, eng)\n",
    "len(cleaned_corpus)"
   ]
  },
  {
   "cell_type": "markdown",
   "id": "olive-tucson",
   "metadata": {},
   "source": [
    "### 2) 정제함수 정의\n",
    "\n",
    "- 모든 입력을 소문자로 변환합니다.\n",
    "- 알파벳, 문장부호, 한글만 남기고 모두 제거합니다.\n",
    "- 문장부호 양옆에 공백을 추가합니다.\n",
    "- 문장 앞뒤의 불필요한 공백을 제거합니다."
   ]
  },
  {
   "cell_type": "code",
   "execution_count": 8,
   "id": "tight-confirmation",
   "metadata": {},
   "outputs": [],
   "source": [
    "def preprocess_sentence(sentence):\n",
    "    sentence = sentence.lower() #- 소문자 변환\n",
    "    sentence = re.sub(r\"[^a-zA-Zㄱ-ㅎㅏ-ㅣ가-힣?.!,]+\", \" \", sentence) #- 알파벳, 문장부호, 한글 이외는 제거\n",
    "    sentence = re.sub(r'[\" \"]+', \" \", sentence) #- 여러개의 공백은 하나의 공백으로 바꾸기\n",
    "    sentence = sentence.strip() #- 양쪽 공백 제거\n",
    "    return sentence"
   ]
  },
  {
   "cell_type": "markdown",
   "id": "environmental-album",
   "metadata": {},
   "source": [
    "### 3) 토큰화\n",
    "- 한글 말뭉치 kor_corpus 와 영문 말뭉치 eng_corpus 를 각각 분리한 후, 정제하여 토큰화를 진행합니다. \n",
    "- 토큰화에는 [SentencePiece](https://github.com/google/sentencepiece)를 사용합니다. \n",
    "    - generate_tokenizer() 함수를 정의하여 최종적으로 ko_tokenizer와 en_tokenizer를 얻습니다. \n",
    "    - en_tokenizer에는 set_encode_extra_options(\"bos:eos\") 함수를 실행해 타겟 입력이 문장의 시작 토큰과 끝 토큰을 포함할 수 있게 합니다.\n",
    "    - 단어 사전을 매개변수로 받아 원하는 크기의 사전을 정의할 수 있게 합니다. (기본: 20,000)\n",
    "    - 학습 후 저장된 model 파일을 SentencePieceProcessor() 클래스에 Load()한 후 반환합니다.\n",
    "    - 특수 토큰의 인덱스를 아래와 동일하게 지정합니다.\n",
    "        - \\<PAD> : 0 / \\<BOS\\> : 1 / \\<EOS\\> : 2 / \\<UNK\\> : 3\n",
    "- [spm의 입력은 txt로 넣어야 합니다.](https://lovit.github.io/nlp/2018/04/02/wpm/)"
   ]
  },
  {
   "cell_type": "code",
   "execution_count": 9,
   "id": "democratic-dressing",
   "metadata": {},
   "outputs": [],
   "source": [
    "# Sentencepiece를 활용하여 학습한 tokenizer를 생성합니다.\n",
    "def generate_tokenizer(corpus, model_type='unigram', vocab_size=32000, lang=\"ko\"): \n",
    "    \n",
    "    input_file = f'{lang}_spm_input.txt'\n",
    "\n",
    "    with open(input_file, 'w', encoding='utf-8') as f:\n",
    "        for sent in corpus:\n",
    "            f.write('{}\\n'.format(sent))\n",
    "        \n",
    "    sp_model_root='sentencepiece'\n",
    "    if not os.path.isdir(sp_model_root): os.mkdir(sp_model_root)\n",
    "    \n",
    "    prefix = 'tokenizer_%s_%s' % (lang,model_type+str(vocab_size))\n",
    "    prefix = os.path.join(sp_model_root, prefix) # 저장될 tokenizer 모델에 붙는 이름\n",
    "    pad_id=0\n",
    "    bos_id=1 #<start> token을 1으로 설정\n",
    "    eos_id=2 #<end> token을 2으로 설정\n",
    "    unk_id=3 #<unknown> token을 3으로 설정\n",
    "    character_coverage = 1.0 # to reduce character set \n",
    "    # model_type = model_type # Choose from unigram (default), bpe, char, or word\n",
    "    input_argument = '--input=%s --pad_id=%s --bos_id=%s --eos_id=%s --unk_id=%s --model_prefix=%s --vocab_size=%s --character_coverage=%s --model_type=%s'\n",
    "    cmd = input_argument%(input_file, pad_id, bos_id, eos_id, unk_id, prefix, vocab_size, character_coverage, model_type)\n",
    "                      \n",
    "    spm.SentencePieceTrainer.Train(cmd)\n",
    "    tokenizer = spm.SentencePieceProcessor()\n",
    "    tokenizer.Load(f'{prefix}.model')\n",
    "    \n",
    "    return tokenizer"
   ]
  },
  {
   "cell_type": "code",
   "execution_count": 10,
   "id": "experienced-castle",
   "metadata": {
    "scrolled": true
   },
   "outputs": [
    {
     "data": {
      "text/plain": [
       "('미 에너지부가 발표한 보고서에 의하면 천연가스 가격은 올 봄 갤런당 3.40달러에 이를 전망이다.',\n",
       " 'In its last forecast, released last month, the Energy Department said prices will likely peak around $3.40 a gallon this spring;')"
      ]
     },
     "execution_count": 10,
     "metadata": {},
     "output_type": "execute_result"
    }
   ],
   "source": [
    "cleaned_corpus[1]"
   ]
  },
  {
   "cell_type": "code",
   "execution_count": 11,
   "id": "ancient-danish",
   "metadata": {
    "scrolled": true
   },
   "outputs": [
    {
     "data": {
      "text/plain": [
       "True"
      ]
     },
     "execution_count": 11,
     "metadata": {},
     "output_type": "execute_result"
    }
   ],
   "source": [
    "SRC_VOCAB_SIZE = TGT_VOCAB_SIZE = 32000\n",
    "\n",
    "eng_corpus = []\n",
    "kor_corpus = []\n",
    "\n",
    "for pair in cleaned_corpus:\n",
    "    k, e = pair[0],pair[1]\n",
    "\n",
    "    kor_corpus.append(preprocess_sentence(k))\n",
    "    eng_corpus.append(preprocess_sentence(e))\n",
    "\n",
    "ko_tokenizer = generate_tokenizer(kor_corpus, 'unigram', SRC_VOCAB_SIZE, \"ko\")\n",
    "en_tokenizer = generate_tokenizer(eng_corpus, 'unigram', TGT_VOCAB_SIZE, \"en\")\n",
    "en_tokenizer.set_encode_extra_options(\"bos:eos\")"
   ]
  },
  {
   "cell_type": "code",
   "execution_count": 12,
   "id": "african-shark",
   "metadata": {},
   "outputs": [],
   "source": [
    "ko_test_txts = ['세계기상기구는 “코로나19에 따른 경제 활동 둔화로 탄소 배출이 일시적으로 줄었지만, 대기 중 이산화탄소 농도에 뚜렷한 영향을 주지 못했다”고 설명했다.','기후변화 대응·적응에 필요한 재원 분담 과정에서 나타나는 선진국과 개발도상국의 이견도 오래 묵은 논쟁거리다.']\n",
    "en_test_txts = ['Democrats, including President Biden, are lobbying for Senator Joe Manchin’s support, knowing he is a crucial swing vote on their domestic agenda.','The contest to fill a vacant State House seat in South Texas has exposed the vulnerabilities of a Democratic stronghold.']\n"
   ]
  },
  {
   "cell_type": "code",
   "execution_count": 13,
   "id": "ignored-customer",
   "metadata": {},
   "outputs": [],
   "source": [
    "def testSP(sp, txts):\n",
    "    tokens_list = []\n",
    "    for txt in txts:\n",
    "        tokens = sp.encode_as_pieces(txt)\n",
    "        #ids = sp.encode_as_ids(txt)\n",
    "        tokens_list.append(tokens)\n",
    "    return tokens_list"
   ]
  },
  {
   "cell_type": "code",
   "execution_count": 14,
   "id": "forward-regular",
   "metadata": {},
   "outputs": [
    {
     "data": {
      "text/plain": [
       "[['▁세계',\n",
       "  '기',\n",
       "  '상',\n",
       "  '기구',\n",
       "  '는',\n",
       "  '▁',\n",
       "  '“',\n",
       "  '코',\n",
       "  '로',\n",
       "  '나',\n",
       "  '19',\n",
       "  '에',\n",
       "  '▁따른',\n",
       "  '▁경제',\n",
       "  '▁활동',\n",
       "  '▁둔화',\n",
       "  '로',\n",
       "  '▁탄소',\n",
       "  '▁배출',\n",
       "  '이',\n",
       "  '▁일시적',\n",
       "  '으로',\n",
       "  '▁줄',\n",
       "  '었지만',\n",
       "  ',',\n",
       "  '▁대기',\n",
       "  '▁중',\n",
       "  '▁이산화탄소',\n",
       "  '▁농도',\n",
       "  '에',\n",
       "  '▁뚜렷',\n",
       "  '한',\n",
       "  '▁영향',\n",
       "  '을',\n",
       "  '▁주지',\n",
       "  '▁못했다',\n",
       "  '”',\n",
       "  '고',\n",
       "  '▁설명했다',\n",
       "  '.'],\n",
       " ['▁기후변화',\n",
       "  '▁대응',\n",
       "  '·',\n",
       "  '적',\n",
       "  '응',\n",
       "  '에',\n",
       "  '▁필요한',\n",
       "  '▁재원',\n",
       "  '▁분담',\n",
       "  '▁과정에서',\n",
       "  '▁나타나',\n",
       "  '는',\n",
       "  '▁선진국',\n",
       "  '과',\n",
       "  '▁개발도상국',\n",
       "  '의',\n",
       "  '▁이견',\n",
       "  '도',\n",
       "  '▁오래',\n",
       "  '▁묵',\n",
       "  '은',\n",
       "  '▁논쟁거리',\n",
       "  '다',\n",
       "  '.']]"
      ]
     },
     "execution_count": 14,
     "metadata": {},
     "output_type": "execute_result"
    }
   ],
   "source": [
    "testSP(ko_tokenizer, ko_test_txts)"
   ]
  },
  {
   "cell_type": "code",
   "execution_count": 15,
   "id": "unlimited-harbor",
   "metadata": {},
   "outputs": [
    {
     "data": {
      "text/plain": [
       "[['<s>',\n",
       "  '▁',\n",
       "  'D',\n",
       "  'em',\n",
       "  'ocrats',\n",
       "  ',',\n",
       "  '▁including',\n",
       "  '▁',\n",
       "  'P',\n",
       "  'res',\n",
       "  'ident',\n",
       "  '▁',\n",
       "  'B',\n",
       "  'iden',\n",
       "  ',',\n",
       "  '▁are',\n",
       "  '▁lobby',\n",
       "  'ing',\n",
       "  '▁for',\n",
       "  '▁',\n",
       "  'S',\n",
       "  'en',\n",
       "  'ator',\n",
       "  '▁',\n",
       "  'J',\n",
       "  'o',\n",
       "  'e',\n",
       "  '▁',\n",
       "  'M',\n",
       "  'an',\n",
       "  'chi',\n",
       "  'n',\n",
       "  '’',\n",
       "  's',\n",
       "  '▁support',\n",
       "  ',',\n",
       "  '▁knowing',\n",
       "  '▁he',\n",
       "  '▁is',\n",
       "  '▁a',\n",
       "  '▁crucial',\n",
       "  '▁swing',\n",
       "  '▁vote',\n",
       "  '▁on',\n",
       "  '▁their',\n",
       "  '▁domestic',\n",
       "  '▁agenda',\n",
       "  '.',\n",
       "  '</s>'],\n",
       " ['<s>',\n",
       "  '▁',\n",
       "  'T',\n",
       "  'he',\n",
       "  '▁contest',\n",
       "  '▁to',\n",
       "  '▁fill',\n",
       "  '▁a',\n",
       "  '▁vacant',\n",
       "  '▁',\n",
       "  'S',\n",
       "  'tate',\n",
       "  '▁',\n",
       "  'H',\n",
       "  'ouse',\n",
       "  '▁seat',\n",
       "  '▁in',\n",
       "  '▁',\n",
       "  'S',\n",
       "  'out',\n",
       "  'h',\n",
       "  '▁',\n",
       "  'T',\n",
       "  'ex',\n",
       "  'as',\n",
       "  '▁has',\n",
       "  '▁exposed',\n",
       "  '▁the',\n",
       "  '▁vulnerabilities',\n",
       "  '▁of',\n",
       "  '▁a',\n",
       "  '▁',\n",
       "  'D',\n",
       "  'e',\n",
       "  'mo',\n",
       "  'cratic',\n",
       "  '▁stronghold',\n",
       "  '.',\n",
       "  '</s>']]"
      ]
     },
     "execution_count": 15,
     "metadata": {},
     "output_type": "execute_result"
    }
   ],
   "source": [
    "testSP(en_tokenizer, en_test_txts)"
   ]
  },
  {
   "cell_type": "markdown",
   "id": "adolescent-married",
   "metadata": {},
   "source": [
    "### 4) 데이터 선별\n",
    "- 토크나이저를 활용해 토큰의 길이가 50 이하인 데이터를 선별하여 src_corpus 와 tgt_corpus 를 각각 구축합니다. \n",
    "- 이후 텐서 enc_train 과 dec_train 으로 변환합니다. "
   ]
  },
  {
   "cell_type": "code",
   "execution_count": 16,
   "id": "military-stylus",
   "metadata": {},
   "outputs": [
    {
     "data": {
      "application/vnd.jupyter.widget-view+json": {
       "model_id": "125051bd9fb74435bfe3e49e572703bd",
       "version_major": 2,
       "version_minor": 0
      },
      "text/plain": [
       "  0%|          | 0/78968 [00:00<?, ?it/s]"
      ]
     },
     "metadata": {},
     "output_type": "display_data"
    }
   ],
   "source": [
    "from tqdm.notebook import tqdm    # Process 과정을 보기 위해\n",
    "\n",
    "src_corpus = []\n",
    "tgt_corpus = []\n",
    "\n",
    "assert len(kor_corpus) == len(eng_corpus)\n",
    "\n",
    "#- 토큰의 길이가 50 이하인 문장만 남깁니다. \n",
    "for idx in tqdm(range(len(kor_corpus))):\n",
    "    src = ko_tokenizer.EncodeAsIds(kor_corpus[idx])\n",
    "    tgt = en_tokenizer.EncodeAsIds(eng_corpus[idx])\n",
    "    \n",
    "    if len(src) <= 50 and len(tgt) <= 50 :\n",
    "        src_corpus.append(src)\n",
    "        tgt_corpus.append(tgt)\n",
    "\n",
    "#- 패딩처리를 완료하여 학습용 데이터를 완성합니다. \n",
    "enc_train = tf.keras.preprocessing.sequence.pad_sequences(src_corpus, padding='post')\n",
    "dec_train = tf.keras.preprocessing.sequence.pad_sequences(tgt_corpus, padding='post')"
   ]
  },
  {
   "cell_type": "markdown",
   "id": "enormous-gibson",
   "metadata": {},
   "source": [
    "# 3. 모델 설계\n"
   ]
  },
  {
   "cell_type": "code",
   "execution_count": 17,
   "id": "disabled-repeat",
   "metadata": {},
   "outputs": [],
   "source": [
    "def positional_encoding(pos, d_model):\n",
    "    def cal_angle(position, i):\n",
    "        return position / np.power(10000, int(i)/d_model)\n",
    "    \n",
    "    def get_posi_angle_vec(position):\n",
    "        return [cal_angle(position, i) for i in range(d_model)]\n",
    "    \n",
    "    sinusoid_table = np.array([get_posi_angle_vec(pos_i) for pos_i in range(pos)])\n",
    "    \n",
    "    sinusoid_table[:, 0::2] = np.sin(sinusoid_table[:, 0::2])\n",
    "    sinusoid_table[:, 1::2] = np.cos(sinusoid_table[:, 1::2])\n",
    "    \n",
    "    return sinusoid_table"
   ]
  },
  {
   "cell_type": "code",
   "execution_count": 18,
   "id": "responsible-novel",
   "metadata": {},
   "outputs": [],
   "source": [
    "class MultiHeadAttention(tf.keras.layers.Layer):\n",
    "    def __init__(self, d_model, num_heads):\n",
    "        super(MultiHeadAttention, self).__init__()\n",
    "        self.num_heads = num_heads\n",
    "        self.d_model = d_model\n",
    "        \n",
    "        self.depth = d_model // self.num_heads\n",
    "        \n",
    "        self.W_q = tf.keras.layers.Dense(d_model)  \n",
    "        self.W_k = tf.keras.layers.Dense(d_model)\n",
    "        self.W_v = tf.keras.layers.Dense(d_model)\n",
    "        \n",
    "        self.linear = tf.keras.layers.Dense(d_model)\n",
    "    \n",
    "    def scaled_dot_product_attention(self, Q, K, V, mask):\n",
    "        d_k = tf.cast(K.shape[-1], tf.float32)\n",
    "        \n",
    "        QK = tf.matmul(Q, K, transpose_b=True)\n",
    "        scaled_qk = QK / tf.math.sqrt(d_k)\n",
    "        \n",
    "        if mask is not None:\n",
    "            scaled_qk += (mask * -1e9)\n",
    "        \n",
    "        attentions = tf.nn.softmax(scaled_qk, axis=-1)\n",
    "        out = tf.matmul(attentions, V)\n",
    "        return out, attentions \n",
    "    \n",
    "    def scaled_dot_product_attention(self, Q, K, V, mask):\n",
    "        d_k = tf.cast(K.shape[-1], tf.float32)\n",
    "        \n",
    "        # Scaled QK 값 구하기\n",
    "        QK = tf.matmul(Q, K, transpose_b=True)\n",
    "        scaled_qk = QK / tf.math.sqrt(d_k)\n",
    "        \n",
    "        if mask is not None:\n",
    "            scaled_qk += (mask * -1e9)\n",
    "        \n",
    "        # 1. Attention Weights 값 구하기 -> attentions\n",
    "        attentions = tf.nn.softmax(scaled_qk, axis=-1)\n",
    "        # 2. Attention 값을 V에 곱하기 -> out\n",
    "        out = tf.matmul(attentions, V)\n",
    "        return out, attentions\n",
    "    \n",
    "    def split_heads(self, x):\n",
    "        \"\"\"\n",
    "        Embedding된 입력을 head의 수로 분할하는 함수\n",
    "        \n",
    "        x: [ batch x length x emb ]\n",
    "        return: [ batch x length x heads x self.depth ]\n",
    "        \"\"\"\n",
    "        bsz = x.shape[0]\n",
    "        split_x = tf.reshape(x, (bsz, -1, self.num_heads, self.depth))\n",
    "        split_x = tf.transpose(split_x, perm=[0, 2, 1, 3])\n",
    "        return split_x\n",
    "    \n",
    "    def combine_heads(self, x):\n",
    "        \"\"\"\n",
    "        분할된 Embedding을 하나로 결합하는 함수\n",
    "        \n",
    "        x: [ batch x length x heads x self.depth ]\n",
    "        return: [ batch x length x emb ]\n",
    "        \"\"\"\n",
    "        bsz = x.shape[0]\n",
    "        combined_x = tf.transpose(x, perm=[0, 2, 1, 3])\n",
    "        combined_x = tf.reshape(combined_x, (bsz, -1, self.d_model))\n",
    "        return combined_x\n",
    "    \n",
    "    def call(self, Q, K, V, mask):\n",
    "        \"\"\"\n",
    "        Step 1: Linear_in(Q, K, V) -> WQ, WK, WV\n",
    "        Step 2: Split Heads(WQ, WK, WV) -> WQ_split, WK_split, WV_split\n",
    "        Step 3: Scaled Dot Product Attention(WQ_split, WK_split, WV_split)\n",
    "                 -> out, attention_weights\n",
    "        Step 4: Combine Heads(out) -> out\n",
    "        Step 5: Linear_out(out) -> out\n",
    "        \"\"\"\n",
    "        WQ = self.W_q(Q)\n",
    "        WK = self.W_k(K)\n",
    "        WV = self.W_v(V)\n",
    "        \n",
    "        WQ_splits = self.split_heads(WQ)\n",
    "        WK_splits = self.split_heads(WK)\n",
    "        WV_splits = self.split_heads(WV)\n",
    "        \n",
    "        out, attention_weights = self.scaled_dot_product_attention(\n",
    "            WQ_splits, WK_splits, WV_splits, mask\n",
    "        )\n",
    "        \n",
    "        out = self.combine_heads(out)\n",
    "        out = self.linear(out)\n",
    "        \n",
    "        return out, attention_weights"
   ]
  },
  {
   "cell_type": "code",
   "execution_count": 19,
   "id": "continuing-kingdom",
   "metadata": {},
   "outputs": [],
   "source": [
    "class PoswiseFeedForwardNet(tf.keras.layers.Layer):\n",
    "    def __init__(self, d_model, d_ff):\n",
    "        super(PoswiseFeedForwardNet, self).__init__()\n",
    "        self.w_1 = tf.keras.layers.Dense(d_ff, activation='relu')\n",
    "        self.w_2 = tf.keras.layers.Dense(d_model)\n",
    "        \n",
    "    def call(self, x):\n",
    "        out = self.w_1(x)\n",
    "        out = self.w_2(out)\n",
    "        return out"
   ]
  },
  {
   "cell_type": "code",
   "execution_count": 20,
   "id": "functioning-avenue",
   "metadata": {},
   "outputs": [],
   "source": [
    "class EncoderLayer(tf.keras.layers.Layer):\n",
    "    def __init__(self, d_model, n_heads, d_ff, dropout):\n",
    "        super(EncoderLayer, self).__init__()\n",
    "        self.enc_self_attn = MultiHeadAttention(d_model, n_heads)\n",
    "        self.ffn = PoswiseFeedForwardNet(d_model, d_ff)\n",
    "        \n",
    "        self.norm_1 = tf.keras.layers.LayerNormalization(epsilon=1e-6)\n",
    "        self.norm_2 = tf.keras.layers.LayerNormalization(epsilon=1e-6)\n",
    "        \n",
    "        self.do = tf.keras.layers.Dropout(dropout)\n",
    "        \n",
    "    def call(self, x, mask):\n",
    "        #- Multi-Head Attention\n",
    "        residual = x\n",
    "        out = self.norm_1(x)\n",
    "        out, enc_attn = self.enc_self_attn(out, out, out, mask)\n",
    "        out = self.do(out)\n",
    "        out += residual\n",
    "        \n",
    "        #- Position-Wise Feed Forward Network\n",
    "        residual = out\n",
    "        out = self.norm_2(out)\n",
    "        out = self.ffn(out)\n",
    "        out = self.do(out)\n",
    "        out += residual\n",
    "        \n",
    "        return out, enc_attn"
   ]
  },
  {
   "cell_type": "code",
   "execution_count": 21,
   "id": "homeless-standard",
   "metadata": {},
   "outputs": [],
   "source": [
    "class DecoderLayer(tf.keras.layers.Layer):\n",
    "    def __init__(self, d_model, num_heads, d_ff, dropout):\n",
    "        super(DecoderLayer, self).__init__()\n",
    "\n",
    "        self.dec_self_attn = MultiHeadAttention(d_model, num_heads)\n",
    "        self.enc_dec_attn = MultiHeadAttention(d_model, num_heads)\n",
    "\n",
    "        self.ffn = PoswiseFeedForwardNet(d_model, d_ff)\n",
    "\n",
    "        self.norm_1 = tf.keras.layers.LayerNormalization(epsilon=1e-6)\n",
    "        self.norm_2 = tf.keras.layers.LayerNormalization(epsilon=1e-6)\n",
    "        self.norm_3 = tf.keras.layers.LayerNormalization(epsilon=1e-6)\n",
    "\n",
    "        self.do = tf.keras.layers.Dropout(dropout)\n",
    "        \n",
    "    def call(self, x, enc_out, causality_mask, padding_mask):\n",
    "        #- Masked Multi-Head Attention\n",
    "        residual = x\n",
    "        out = self.norm_1(x)\n",
    "        out, dec_attn = self.dec_self_attn(out, out, out, padding_mask)\n",
    "        out = self.do(out)\n",
    "        out += residual\n",
    "        \n",
    "        #- Multi-Head Attention\n",
    "        residual = out\n",
    "        out = self.norm_2(out)\n",
    "        out, dec_enc_attn = self.enc_dec_attn(out, enc_out, enc_out, causality_mask)\n",
    "        out = self.do(out)\n",
    "        out += residual\n",
    "\n",
    "        #- Position-Wise Feed Forward Network\n",
    "        residual = out\n",
    "        out = self.norm_3(out)\n",
    "        out = self.ffn(out)\n",
    "        out = self.do(out)\n",
    "        out += residual\n",
    "\n",
    "        return out, dec_attn, dec_enc_attn"
   ]
  },
  {
   "cell_type": "code",
   "execution_count": 22,
   "id": "disciplinary-contribution",
   "metadata": {},
   "outputs": [],
   "source": [
    "class Encoder(tf.keras.Model):\n",
    "    def __init__(self, n_layers, d_model, n_heads, d_ff, dropout):\n",
    "        super(Encoder, self).__init__()\n",
    "        self.n_layers = n_layers\n",
    "        self.enc_layers = [EncoderLayer(d_model, n_heads, d_ff, dropout) for _ in range(n_layers)]\n",
    "        self.do = tf.keras.layers.Dropout(dropout)\n",
    "        \n",
    "    def call(self, x, mask):\n",
    "        out = x\n",
    "        enc_attns = list()\n",
    "        for i in range(self.n_layers):\n",
    "            out, enc_attn = self.enc_layers[i](out, mask)\n",
    "            enc_attns.append(enc_attn)\n",
    "            \n",
    "        return out, enc_attns"
   ]
  },
  {
   "cell_type": "code",
   "execution_count": 23,
   "id": "noble-creator",
   "metadata": {},
   "outputs": [],
   "source": [
    "class Decoder(tf.keras.Model):\n",
    "    def __init__(self, n_layers, d_model, n_heads, d_ff, dropout):\n",
    "        super(Decoder, self).__init__()\n",
    "        self.n_layers = n_layers\n",
    "        self.dec_layers = [DecoderLayer(d_model, n_heads, d_ff, dropout) for _ in range(n_layers)]\n",
    "        \n",
    "    def call(self, x, enc_out, causality_mask, padding_mask):\n",
    "        out = x\n",
    "        dec_attns = list()\n",
    "        dec_enc_attns = list()\n",
    "        for i in range(self.n_layers):\n",
    "            out, dec_attn, dec_enc_attn = self.dec_layers[i](out, enc_out, causality_mask, padding_mask)\n",
    "            dec_attns.append(dec_attn)\n",
    "            dec_enc_attns.append(dec_enc_attn)\n",
    "        \n",
    "        return out, dec_attns, dec_enc_attns"
   ]
  },
  {
   "cell_type": "code",
   "execution_count": 24,
   "id": "leading-preference",
   "metadata": {},
   "outputs": [],
   "source": [
    "class Transformer(tf.keras.Model):\n",
    "    def __init__(self, n_layers, d_model, n_heads, d_ff, src_vocab_size, tgt_vocab_size,\n",
    "                 pos_len, dropout=0.2, shared=True):\n",
    "        super(Transformer, self).__init__()\n",
    "        self.d_model = tf.cast(d_model, tf.float32)\n",
    "        \n",
    "        #- 1. Embedding Layer 정의\n",
    "        self.enc_emb = tf.keras.layers.Embedding(src_vocab_size, d_model)\n",
    "        self.dec_emb = tf.keras.layers.Embedding(tgt_vocab_size, d_model)\n",
    "        \n",
    "        #- 2. Positional Encoding 정의\n",
    "        self.pos_encoding = positional_encoding(pos_len, d_model)\n",
    "        #- 6. Dropout 정의\n",
    "        self.do = tf.keras.layers.Dropout(dropout)\n",
    "        \n",
    "        #- 3. Encoder / Decoder 정의\n",
    "        self.encoder = Encoder(n_layers, d_model, n_heads, d_ff, dropout)\n",
    "        self.decoder = Decoder(n_layers, d_model, n_heads, d_ff, dropout)\n",
    "        \n",
    "        #- 4. Output Linear 정의\n",
    "        self.fc = tf.keras.layers.Dense(tgt_vocab_size)\n",
    "        \n",
    "        #- 5. Shared Weights\n",
    "        self.shared = shared\n",
    "        \n",
    "        if shared:\n",
    "            self.fc.set_weights(tf.transpose(self.dec_emb.weights))\n",
    "        \n",
    "        \n",
    "    def embedding(self, emb, x):\n",
    "        \"\"\"\n",
    "        입력된 정수 배열을 Embedding + Pos Encoding\n",
    "        + Shared일 경우 Scaling 작업 포함\n",
    "\n",
    "        x: [ batch x length ]\n",
    "        return: [ batch x length x emb ]\n",
    "        \"\"\"\n",
    "        seq_len = x.shape[1]\n",
    "        out = emb(x)\n",
    "        \n",
    "        if self.shared:\n",
    "            out *= tf.math.sqrt(self.d_model)\n",
    "        \n",
    "        out += self.pos_encoding[np.newaxis, ...][:, :seq_len, :]\n",
    "        out = self.do(out)\n",
    "        \n",
    "        return out\n",
    "    \n",
    "    def call(self, enc_in, dec_in, enc_mask, causality_mask, dec_mask):\n",
    "        #- Step 1: Embedding(enc_in, dec_in) -> enc_in, dec_in\n",
    "        enc_in = self.embedding(self.enc_emb, enc_in)\n",
    "        dec_in = self.embedding(self.dec_emb, dec_in)\n",
    "        \n",
    "        #- Step 2: Encoder(enc_in, enc_mask) -> enc_out, enc_attns\n",
    "        enc_out, enc_attns = self.encoder(enc_in, enc_mask)\n",
    "\n",
    "        #- Step 3: Decoder(dec_in, enc_out, mask) -> dec_out, dec_attns, dec_enc_attns\n",
    "        dec_out, dec_attns, dec_enc_attns = self.decoder(dec_in, enc_out, causality_mask, dec_mask)\n",
    "        \n",
    "        #- Step 4: Out Linear(dec_out) -> logits\n",
    "        logits = self.fc(dec_out)\n",
    "        \n",
    "        return logits, enc_attns, dec_attns, dec_enc_attns"
   ]
  },
  {
   "cell_type": "code",
   "execution_count": 25,
   "id": "hundred-vegetation",
   "metadata": {},
   "outputs": [],
   "source": [
    "def generate_padding_mask(seq):\n",
    "    seq = tf.cast(tf.math.equal(seq, 0), tf.float32)\n",
    "    return seq[:, tf.newaxis, tf.newaxis, :]\n",
    "\n",
    "def generate_causality_mask(src_len, tgt_len):\n",
    "    mask = 1 - np.cumsum(np.eye(src_len, tgt_len), 0)\n",
    "    return tf.cast(mask, tf.float32)\n",
    "\n",
    "def generate_masks(src, tgt):\n",
    "    enc_mask = generate_padding_mask(src)\n",
    "    dec_mask = generate_padding_mask(tgt)\n",
    "\n",
    "    dec_enc_causality_mask = generate_causality_mask(tgt.shape[1], src.shape[1])\n",
    "    dec_enc_mask = tf.maximum(enc_mask, dec_enc_causality_mask)\n",
    "\n",
    "    dec_causality_mask = generate_causality_mask(tgt.shape[1], tgt.shape[1])\n",
    "    dec_mask = tf.maximum(dec_mask, dec_causality_mask)\n",
    "\n",
    "    return enc_mask, dec_enc_mask, dec_mask"
   ]
  },
  {
   "cell_type": "markdown",
   "id": "banner-sharp",
   "metadata": {},
   "source": [
    "# 4. 훈련\n",
    "### 1) 모델 선언\n",
    "2 Layer를 가지는 Transformer를 선언합니다. (하이퍼파라미터는 자유롭게 조절) "
   ]
  },
  {
   "cell_type": "code",
   "execution_count": 26,
   "id": "cheap-melbourne",
   "metadata": {},
   "outputs": [],
   "source": [
    "transformer = Transformer(\n",
    "    n_layers=2,\n",
    "    d_model=512,\n",
    "    n_heads=8,\n",
    "    d_ff=2048,\n",
    "    src_vocab_size=SRC_VOCAB_SIZE,\n",
    "    tgt_vocab_size=TGT_VOCAB_SIZE,\n",
    "    pos_len=200,\n",
    "    dropout=0.2,\n",
    "    shared=True\n",
    ")"
   ]
  },
  {
   "cell_type": "markdown",
   "id": "civic-presence",
   "metadata": {},
   "source": [
    "### 2) Learning Rate Scheduler\n",
    "- 논문에서 사용한 것과 동일한 Learning Rate Scheduler를 선언하고, 이를 포함하는 Adam Optimizer를 선언합니다. "
   ]
  },
  {
   "cell_type": "code",
   "execution_count": 27,
   "id": "dated-american",
   "metadata": {},
   "outputs": [],
   "source": [
    "class LearningRateScheduler(tf.keras.optimizers.schedules.LearningRateSchedule):\n",
    "    def __init__(self, d_model, warmup_steps=4000):\n",
    "        super(LearningRateScheduler, self).__init__()\n",
    "        self.d_model = d_model\n",
    "        self.warmup_steps = warmup_steps\n",
    "    \n",
    "    def __call__(self, step):\n",
    "        arg1 = step ** -0.5\n",
    "        arg2 = step * (self.warmup_steps ** -1.5)\n",
    "        \n",
    "        return (self.d_model ** -0.5) * tf.math.minimum(arg1, arg2)"
   ]
  },
  {
   "cell_type": "code",
   "execution_count": 28,
   "id": "following-advertising",
   "metadata": {},
   "outputs": [],
   "source": [
    "learning_rate = LearningRateScheduler(512)\n",
    "optimizer = tf.keras.optimizers.Adam(learning_rate, beta_1=0.9, beta_2=0.98, epsilon=1e-9)"
   ]
  },
  {
   "cell_type": "markdown",
   "id": "handmade-router",
   "metadata": {},
   "source": [
    "### 3) Loss 함수 정의\n",
    "- Sequence-to-sequence 모델에서 사용했던 Loss와 유사하되, Masking 되지 않은 입력의 개수로 Scaling하는 과정을 추가합니다. (트랜스포머가 모든 입력에 대한 Loss를 한 번에 구하기 때문입니다.)"
   ]
  },
  {
   "cell_type": "code",
   "execution_count": 29,
   "id": "medieval-orlando",
   "metadata": {},
   "outputs": [],
   "source": [
    "loss_object = tf.keras.losses.SparseCategoricalCrossentropy(\n",
    "    from_logits=True, reduction='none')\n",
    "\n",
    "def loss_function(real, pred):\n",
    "    mask = tf.math.logical_not(tf.math.equal(real, 0))\n",
    "    loss_ = loss_object(real, pred)\n",
    "\n",
    "    # Masking 되지 않은 입력의 개수로 Scaling하는 과정\n",
    "    mask = tf.cast(mask, dtype=loss_.dtype)\n",
    "    loss_ *= mask\n",
    "\n",
    "    return tf.reduce_sum(loss_)/tf.reduce_sum(mask)"
   ]
  },
  {
   "cell_type": "markdown",
   "id": "entertaining-mounting",
   "metadata": {},
   "source": [
    "### 4) train_step 함수 정의\n",
    "- 입력 데이터에 알맞은 Mask를 생성하고, 이를 모델에 전달하여 연산에서 사용할 수 있게 합니다. "
   ]
  },
  {
   "cell_type": "code",
   "execution_count": 30,
   "id": "handy-peeing",
   "metadata": {},
   "outputs": [],
   "source": [
    "# Train Step 함수 정의\n",
    "\n",
    "@tf.function()\n",
    "def train_step(src, tgt, model, optimizer):\n",
    "    gold = tgt[:, 1:]\n",
    "        \n",
    "    enc_mask, dec_enc_mask, dec_mask = generate_masks(src, tgt)\n",
    "\n",
    "    # 계산된 loss에 tf.GradientTape()를 적용해 학습을 진행합니다.\n",
    "    with tf.GradientTape() as tape:\n",
    "        predictions, enc_attns, dec_attns, dec_enc_attns = \\\n",
    "        model(src, tgt, enc_mask, dec_enc_mask, dec_mask)\n",
    "        loss = loss_function(gold, predictions[:, :-1])\n",
    "\n",
    "    # 최종적으로 optimizer.apply_gradients()가 사용됩니다. \n",
    "    gradients = tape.gradient(loss, model.trainable_variables)    \n",
    "    optimizer.apply_gradients(zip(gradients, model.trainable_variables))\n",
    "    \n",
    "    return loss, enc_attns, dec_attns, dec_enc_attns"
   ]
  },
  {
   "cell_type": "markdown",
   "id": "material-cowboy",
   "metadata": {},
   "source": [
    "### 5) 학습 진행\n",
    "- 매 Epoch 마다 제시된 예문에 대한 번역을 생성하고, 멋진 번역이 생성되면 그때의 하이퍼파라미터와 생성된 번역을 기록합니다. \n",
    "\n",
    "- 예문\n",
    "    1. 오바마는 대통령이다.\n",
    "    2. 시민들은 도시 속에 산다.\n",
    "    3. 커피는 필요 없다.\n",
    "    4. 일곱 명의 사망자가 발생했다.\n",
    "    5. 투표는 시민의 권리이다.\n",
    "    6. 음주는 만성간염, 간경변증, 간암의 대표적인 원인이다.\n",
    "    7. 친환경 에너지 정책을 펼쳐온 미국 조 바이든 행정부가 올 들어 석탄 사용량을 늘린 것으로 나타났다.\n",
    "    8. 박씨는 몇 년 전 국제마피아파를 탈퇴해 ‘관심 대상’으로 분류됐다고 한다.\n",
    "    9. 윤석열은 한국의 대통령 이다.\n",
    "    10. AIFFEL 헤커톤 너무 너무 힘들다. "
   ]
  },
  {
   "cell_type": "code",
   "execution_count": 31,
   "id": "transparent-sound",
   "metadata": {},
   "outputs": [],
   "source": [
    "# Attention 시각화 함수\n",
    "\n",
    "def visualize_attention(src, tgt, enc_attns, dec_attns, dec_enc_attns):\n",
    "    def draw(data, ax, x=\"auto\", y=\"auto\"):\n",
    "        import seaborn\n",
    "        seaborn.heatmap(data, \n",
    "                        square=True,\n",
    "                        vmin=0.0, vmax=1.0, \n",
    "                        cbar=False, ax=ax,\n",
    "                        xticklabels=x,\n",
    "                        yticklabels=y)\n",
    "        \n",
    "    for layer in range(0, 2, 1):\n",
    "        sns.set(font='NanumGothic')\n",
    "        fig, axs = plt.subplots(1, 4, figsize=(20, 10))\n",
    "        print(\"Encoder Layer\", layer + 1)\n",
    "        for h in range(4):\n",
    "            draw(enc_attns[layer][0, h, :len(src), :len(src)], axs[h], src, src)\n",
    "        plt.show()\n",
    "        \n",
    "    for layer in range(0, 2, 1):\n",
    "        sns.set(font='NanumGothic')\n",
    "        fig, axs = plt.subplots(1, 4, figsize=(20, 10))\n",
    "        print(\"Decoder Self Layer\", layer+1)\n",
    "        for h in range(4):\n",
    "            draw(dec_attns[layer][0, h, :len(tgt), :len(tgt)], axs[h], tgt, tgt)\n",
    "        plt.show()\n",
    "\n",
    "        print(\"Decoder Src Layer\", layer+1)\n",
    "        sns.set(font='NanumGothic')\n",
    "        fig, axs = plt.subplots(1, 4, figsize=(20, 10))\n",
    "        for h in range(4):\n",
    "            draw(dec_enc_attns[layer][0, h, :len(tgt), :len(src)], axs[h], src, tgt)\n",
    "        plt.show()"
   ]
  },
  {
   "cell_type": "code",
   "execution_count": 32,
   "id": "foreign-paint",
   "metadata": {},
   "outputs": [],
   "source": [
    "# 번역 생성 함수\n",
    "\n",
    "def evaluate(sentence, model, src_tokenizer, tgt_tokenizer):\n",
    "    sentence = preprocess_sentence(sentence)\n",
    "\n",
    "    pieces = src_tokenizer.encode_as_pieces(sentence)\n",
    "    tokens = src_tokenizer.encode_as_ids(sentence)\n",
    "\n",
    "    _input = tf.keras.preprocessing.sequence.pad_sequences([tokens],\n",
    "                                                           maxlen=enc_train.shape[-1],\n",
    "                                                           padding='post')\n",
    "    \n",
    "    ids = []\n",
    "    output = tf.expand_dims([tgt_tokenizer.bos_id()], 0)\n",
    "    for i in range(dec_train.shape[-1]):\n",
    "        enc_padding_mask, combined_mask, dec_padding_mask = \\\n",
    "        generate_masks(_input, output)\n",
    "\n",
    "        predictions, enc_attns, dec_attns, dec_enc_attns =\\\n",
    "        model(_input, \n",
    "              output,\n",
    "              enc_padding_mask,\n",
    "              combined_mask,\n",
    "              dec_padding_mask)\n",
    "\n",
    "        predicted_id = \\\n",
    "        tf.argmax(tf.math.softmax(predictions, axis=-1)[0, -1]).numpy().item()\n",
    "\n",
    "        if tgt_tokenizer.eos_id() == predicted_id:\n",
    "            result = tgt_tokenizer.decode_ids(ids)\n",
    "            return pieces, result, enc_attns, dec_attns, dec_enc_attns\n",
    "\n",
    "        ids.append(predicted_id)\n",
    "        output = tf.concat([output, tf.expand_dims([predicted_id], 0)], axis=-1)\n",
    "\n",
    "    result = tgt_tokenizer.decode_ids(ids)\n",
    "\n",
    "    return pieces, result, enc_attns, dec_attns, dec_enc_attns"
   ]
  },
  {
   "cell_type": "code",
   "execution_count": 33,
   "id": "varying-peninsula",
   "metadata": {},
   "outputs": [],
   "source": [
    "# 번역 생성 및 Attention 시각화 결합\n",
    "\n",
    "def translate(sentence, model, src_tokenizer, tgt_tokenizer, plot_attention=False):\n",
    "    pieces, result, enc_attns, dec_attns, dec_enc_attns = \\\n",
    "    evaluate(sentence, model, src_tokenizer, tgt_tokenizer)\n",
    "    \n",
    "    print('Input: %s' % (sentence))\n",
    "    print('Predicted translation: {}'.format(result))\n",
    "\n",
    "    if plot_attention:\n",
    "        visualize_attention(pieces, result.split(), enc_attns, dec_attns, dec_enc_attns)"
   ]
  },
  {
   "cell_type": "code",
   "execution_count": 34,
   "id": "contrary-machine",
   "metadata": {
    "scrolled": true
   },
   "outputs": [
    {
     "data": {
      "application/vnd.jupyter.widget-view+json": {
       "model_id": "a2a69da601b248d2911a66b7bdd2a800",
       "version_major": 2,
       "version_minor": 0
      },
      "text/plain": [
       "  0%|          | 0/1182 [00:00<?, ?it/s]"
      ]
     },
     "metadata": {},
     "output_type": "display_data"
    },
    {
     "name": "stdout",
     "output_type": "stream",
     "text": [
      "Input: 오바마는 대통령이다.\n",
      "Predicted translation: obama has a big way.\n",
      "Input: 시민들은 도시 속에 산다.\n",
      "Predicted translation: the number of the city of the city of the city.\n",
      "Input: 커피는 필요 없다.\n",
      "Predicted translation: the big is not a lot of the way.\n",
      "Input: 일곱 명의 사망자가 발생했다.\n",
      "Predicted translation: the two of the two people were killed in the city of the northern province of the city of the northern province.\n",
      "Input: 투표는 시민의 권리이다\n",
      "Predicted translation: the vote is a vote of the vote.\n",
      "Input: 음주는 만성간염, 간경변증, 간암의 대표적인 원인이다.\n",
      "Predicted translation: the company has been a series of the first time, and the first time of the first time.\n",
      "Input: 친환경 에너지 정책을 펼쳐온 미국 조 바이든 행정부가 올 들어 석탄 사용량을 늘린 것으로 나타났다.\n",
      "Predicted translation: the united states has a big increase in europe, which is a u.s. and the united states.\n",
      "Input: 박씨는 몇 년 전 국제마피아파를 탈퇴해 ‘관심 대상’으로 분류됐다고 한다.\n",
      "Predicted translation: the company has been a year old court in the united states, which has been a year old court.\n",
      "Input: 윤석열은 한국의 대통령 이다.\n",
      "Predicted translation: the korean president is the first korean president of the korean president s president s president.\n",
      "Input: AIFFEL 헤커톤 너무너무 힘들다.\n",
      "Predicted translation: the first time of the first time, which is a new york.\n"
     ]
    },
    {
     "data": {
      "application/vnd.jupyter.widget-view+json": {
       "model_id": "78e088efa44942f8b9a0dfd88f921ccf",
       "version_major": 2,
       "version_minor": 0
      },
      "text/plain": [
       "  0%|          | 0/1182 [00:00<?, ?it/s]"
      ]
     },
     "metadata": {},
     "output_type": "display_data"
    },
    {
     "name": "stdout",
     "output_type": "stream",
     "text": [
      "Input: 오바마는 대통령이다.\n",
      "Predicted translation: obama is the president.\n",
      "Input: 시민들은 도시 속에 산다.\n",
      "Predicted translation: the city s city is set to be a tourist day.\n",
      "Input: 커피는 필요 없다.\n",
      "Predicted translation: the coffee is not only one of the world.\n",
      "Input: 일곱 명의 사망자가 발생했다.\n",
      "Predicted translation: the dead were killed in the dead.\n",
      "Input: 투표는 시민의 권리이다\n",
      "Predicted translation: the vote is one of the vote.\n",
      "Input: 음주는 만성간염, 간경변증, 간암의 대표적인 원인이다.\n",
      "Predicted translation: the company is the largest and the cause of the disease, and the cause of the disease, which is the largest and the cause of the disease.\n",
      "Input: 친환경 에너지 정책을 펼쳐온 미국 조 바이든 행정부가 올 들어 석탄 사용량을 늘린 것으로 나타났다.\n",
      "Predicted translation: the korea times reports the nation s energy department, which has been trying to improve the u.s. economic policies.\n",
      "Input: 박씨는 몇 년 전 국제마피아파를 탈퇴해 ‘관심 대상’으로 분류됐다고 한다.\n",
      "Predicted translation: park park geun hye, a world heritage site, a few seconds.\n",
      "Input: 윤석열은 한국의 대통령 이다.\n",
      "Predicted translation: the korea times is the first time in south korea.\n",
      "Input: AIFFEL 헤커톤 너무너무 힘들다.\n",
      "Predicted translation: the newest day, a group of the group of the group, said.\n"
     ]
    },
    {
     "data": {
      "application/vnd.jupyter.widget-view+json": {
       "model_id": "525a09f1c7d3486c8d8dda671c431ac6",
       "version_major": 2,
       "version_minor": 0
      },
      "text/plain": [
       "  0%|          | 0/1182 [00:00<?, ?it/s]"
      ]
     },
     "metadata": {},
     "output_type": "display_data"
    },
    {
     "name": "stdout",
     "output_type": "stream",
     "text": [
      "Input: 오바마는 대통령이다.\n",
      "Predicted translation: obama s inauguration.\n",
      "Input: 시민들은 도시 속에 산다.\n",
      "Predicted translation: in the city of urban city.\n",
      "Input: 커피는 필요 없다.\n",
      "Predicted translation: don t need to go.\n",
      "Input: 일곱 명의 사망자가 발생했다.\n",
      "Predicted translation: the storm was reported wednesday.\n",
      "Input: 투표는 시민의 권리이다\n",
      "Predicted translation: the vote is the right right to win the right right right to right right right right right right to right right right right to right right right right right right right right to right.\n",
      "Input: 음주는 만성간염, 간경변증, 간암의 대표적인 원인이다.\n",
      "Predicted translation: the process is a long process for the past year, the process of the animals, the process of the north and the cause of the animals.\n",
      "Input: 친환경 에너지 정책을 펼쳐온 미국 조 바이든 행정부가 올 들어 석탄 사용량을 늘린 것으로 나타났다.\n",
      "Predicted translation: the energy department of environmental policy, which is the first time to make a large scale, with the u.s. economy, and the u.s. economy.\n",
      "Input: 박씨는 몇 년 전 국제마피아파를 탈퇴해 ‘관심 대상’으로 분류됐다고 한다.\n",
      "Predicted translation: park is the international atomic energy agency, which is the world s largest ever since .\n",
      "Input: 윤석열은 한국의 대통령 이다.\n",
      "Predicted translation: yoon korean korean korean korean korean president roh moo hyun is not the first time.\n",
      "Input: AIFFEL 헤커톤 너무너무 힘들다.\n",
      "Predicted translation: a powerful earthquake shook the day, he said.\n"
     ]
    },
    {
     "data": {
      "application/vnd.jupyter.widget-view+json": {
       "model_id": "4340c653101a423f9040fb1023bb3b9d",
       "version_major": 2,
       "version_minor": 0
      },
      "text/plain": [
       "  0%|          | 0/1182 [00:00<?, ?it/s]"
      ]
     },
     "metadata": {},
     "output_type": "display_data"
    },
    {
     "name": "stdout",
     "output_type": "stream",
     "text": [
      "Input: 오바마는 대통령이다.\n",
      "Predicted translation: obama is the first president.\n",
      "Input: 시민들은 도시 속에 산다.\n",
      "Predicted translation: the city is in the city.\n",
      "Input: 커피는 필요 없다.\n",
      "Predicted translation: don t need to need a good cat.\n",
      "Input: 일곱 명의 사망자가 발생했다.\n",
      "Predicted translation: on sunday, seven people were killed.\n",
      "Input: 투표는 시민의 권리이다\n",
      "Predicted translation: the right is the right of rights.\n",
      "Input: 음주는 만성간염, 간경변증, 간암의 대표적인 원인이다.\n",
      "Predicted translation: drinking drinking, the drinking age of , is a common practice in the case of a chemical cancer.\n",
      "Input: 친환경 에너지 정책을 펼쳐온 미국 조 바이든 행정부가 올 들어 석탄 사용량을 늘린 것으로 나타났다.\n",
      "Predicted translation: the energy industry, which is used to deliver technology, is using the technology to use, is likely to be used by the u.s.\n",
      "Input: 박씨는 몇 년 전 국제마피아파를 탈퇴해 ‘관심 대상’으로 분류됐다고 한다.\n",
      "Predicted translation: park is in years of international politics for international development and has seen a global war.\n",
      "Input: 윤석열은 한국의 대통령 이다.\n",
      "Predicted translation: korean blue chip.\n",
      "Input: AIFFEL 헤커톤 너무너무 힘들다.\n",
      "Predicted translation: a lot of people were on the surface, and the ap s orbiting of a big bang.\n"
     ]
    },
    {
     "data": {
      "application/vnd.jupyter.widget-view+json": {
       "model_id": "865e6f3891d542e088f96722a49aacd3",
       "version_major": 2,
       "version_minor": 0
      },
      "text/plain": [
       "  0%|          | 0/1182 [00:00<?, ?it/s]"
      ]
     },
     "metadata": {},
     "output_type": "display_data"
    },
    {
     "name": "stdout",
     "output_type": "stream",
     "text": [
      "Input: 오바마는 대통령이다.\n",
      "Predicted translation: obama is a president.\n",
      "Input: 시민들은 도시 속에 산다.\n",
      "Predicted translation: the city is in the city.\n",
      "Input: 커피는 필요 없다.\n",
      "Predicted translation: need for coffee.\n",
      "Input: 일곱 명의 사망자가 발생했다.\n",
      "Predicted translation: seven people were killed and seven were injured.\n",
      "Input: 투표는 시민의 권리이다\n",
      "Predicted translation: voting is the right.\n",
      "Input: 음주는 만성간염, 간경변증, 간암의 대표적인 원인이다.\n",
      "Predicted translation: the drinking destroy the spread of the liver, water and a common cause of the liver cancer.\n",
      "Input: 친환경 에너지 정책을 펼쳐온 미국 조 바이든 행정부가 올 들어 석탄 사용량을 늘린 것으로 나타났다.\n",
      "Predicted translation: green, green, a green energy analyst for the american energy authority, has reported that the bush administration has a high profile that has already been on the u.s.\n",
      "Input: 박씨는 몇 년 전 국제마피아파를 탈퇴해 ‘관심 대상’으로 분류됐다고 한다.\n",
      "Predicted translation: park is a few years ago, she said in a report that internationals are among the international community.\n",
      "Input: 윤석열은 한국의 대통령 이다.\n",
      "Predicted translation: yoon is a south korean counterpart in the south.\n",
      "Input: AIFFEL 헤커톤 너무너무 힘들다.\n",
      "Predicted translation: a wonderful crewton was a strong enough for the past week.\n"
     ]
    },
    {
     "data": {
      "application/vnd.jupyter.widget-view+json": {
       "model_id": "f78304dc245641fe8f1070f984addf93",
       "version_major": 2,
       "version_minor": 0
      },
      "text/plain": [
       "  0%|          | 0/1182 [00:00<?, ?it/s]"
      ]
     },
     "metadata": {},
     "output_type": "display_data"
    },
    {
     "name": "stdout",
     "output_type": "stream",
     "text": [
      "Input: 오바마는 대통령이다.\n",
      "Predicted translation: the president is a president.\n",
      "Input: 시민들은 도시 속에 산다.\n",
      "Predicted translation: the city s city is in control.\n",
      "Input: 커피는 필요 없다.\n",
      "Predicted translation: the coffee is necessary.\n",
      "Input: 일곱 명의 사망자가 발생했다.\n",
      "Predicted translation: seven people were killed sunday in the seventh person.\n",
      "Input: 투표는 시민의 권리이다\n",
      "Predicted translation: right is right.\n",
      "Input: 음주는 만성간염, 간경변증, 간암의 대표적인 원인이다.\n",
      "Predicted translation: the drinking is the biggest ever public cause of the damage, according to the site.\n",
      "Input: 친환경 에너지 정책을 펼쳐온 미국 조 바이든 행정부가 올 들어 석탄 사용량을 늘린 것으로 나타났다.\n",
      "Predicted translation: often in a policy study that allows the united states to use his cell phones.\n",
      "Input: 박씨는 몇 년 전 국제마피아파를 탈퇴해 ‘관심 대상’으로 분류됐다고 한다.\n",
      "Predicted translation: park jae wan of the international community have a variety of carbon dioxide, said in a report.\n",
      "Input: 윤석열은 한국의 대통령 이다.\n",
      "Predicted translation: a high ranking south korean official.\n",
      "Input: AIFFEL 헤커톤 너무너무 힘들다.\n",
      "Predicted translation: maybe it is a well known to be here.\n"
     ]
    },
    {
     "data": {
      "application/vnd.jupyter.widget-view+json": {
       "model_id": "21f70f307ac64ac193a54aee3da0ef63",
       "version_major": 2,
       "version_minor": 0
      },
      "text/plain": [
       "  0%|          | 0/1182 [00:00<?, ?it/s]"
      ]
     },
     "metadata": {},
     "output_type": "display_data"
    },
    {
     "name": "stdout",
     "output_type": "stream",
     "text": [
      "Input: 오바마는 대통령이다.\n",
      "Predicted translation: obama.\n",
      "Input: 시민들은 도시 속에 산다.\n",
      "Predicted translation: the city s u.s.\n",
      "Input: 커피는 필요 없다.\n",
      "Predicted translation: need for coffee.\n",
      "Input: 일곱 명의 사망자가 발생했다.\n",
      "Predicted translation: seven people were killed sunday.\n",
      "Input: 투표는 시민의 권리이다\n",
      "Predicted translation: right is the right right of citizens.\n",
      "Input: 음주는 만성간염, 간경변증, 간암의 대표적인 원인이다.\n",
      "Predicted translation: the failure is responsible for the explosion, a common practice, and the son of the rare liver and year old daughter.\n",
      "Input: 친환경 에너지 정책을 펼쳐온 미국 조 바이든 행정부가 올 들어 석탄 사용량을 늘린 것으로 나타났다.\n",
      "Predicted translation: used by the united nations, it appears to be more small, america has been able to produce uranium metal in the united states.\n",
      "Input: 박씨는 몇 년 전 국제마피아파를 탈퇴해 ‘관심 대상’으로 분류됐다고 한다.\n",
      "Predicted translation: park dated to a few years ago, she said, adding international observers are also  expedition.\n",
      "Input: 윤석열은 한국의 대통령 이다.\n",
      "Predicted translation: korean president roh moo hyun is in south korea.\n",
      "Input: AIFFEL 헤커톤 너무너무 힘들다.\n",
      "Predicted translation: a relatively mild disease for the time.\n"
     ]
    },
    {
     "data": {
      "application/vnd.jupyter.widget-view+json": {
       "model_id": "6c96d656699845a8a96f062ab15622c7",
       "version_major": 2,
       "version_minor": 0
      },
      "text/plain": [
       "  0%|          | 0/1182 [00:00<?, ?it/s]"
      ]
     },
     "metadata": {},
     "output_type": "display_data"
    },
    {
     "name": "stdout",
     "output_type": "stream",
     "text": [
      "Input: 오바마는 대통령이다.\n",
      "Predicted translation: the president is\n",
      "Input: 시민들은 도시 속에 산다.\n",
      "Predicted translation: some turned out in the city in san urbana free.\n",
      "Input: 커피는 필요 없다.\n",
      "Predicted translation: for one need.\n",
      "Input: 일곱 명의 사망자가 발생했다.\n",
      "Predicted translation: seven people were killed.\n",
      "Input: 투표는 시민의 권리이다\n",
      "Predicted translation: the vote is the right.\n",
      "Input: 음주는 만성간염, 간경변증, 간암의 대표적인 원인이다.\n",
      "Predicted translation: the dealing with the drinking manchester city is a common agenda, and the cause of death is properly common.\n",
      "Input: 친환경 에너지 정책을 펼쳐온 미국 조 바이든 행정부가 올 들어 석탄 사용량을 늘린 것으로 나타났다.\n",
      "Predicted translation: it is often the world s first by a group of scientists to cut the stake in the united states by five major american nations.\n",
      "Input: 박씨는 몇 년 전 국제마피아파를 탈퇴해 ‘관심 대상’으로 분류됐다고 한다.\n",
      "Predicted translation: park was a leader of a world leader featuring human rights in the international race in human rights in .\n",
      "Input: 윤석열은 한국의 대통령 이다.\n",
      "Predicted translation: at a south korean food summit is south korean president.\n",
      "Input: AIFFEL 헤커톤 너무너무 힘들다.\n",
      "Predicted translation: a serve is supposed to be an hour at the u.s.\n"
     ]
    },
    {
     "data": {
      "application/vnd.jupyter.widget-view+json": {
       "model_id": "3ed240ffb11548b7894fa4cdc2115af4",
       "version_major": 2,
       "version_minor": 0
      },
      "text/plain": [
       "  0%|          | 0/1182 [00:00<?, ?it/s]"
      ]
     },
     "metadata": {},
     "output_type": "display_data"
    },
    {
     "name": "stdout",
     "output_type": "stream",
     "text": [
      "Input: 오바마는 대통령이다.\n",
      "Predicted translation: obama is approaching percent.\n",
      "Input: 시민들은 도시 속에 산다.\n",
      "Predicted translation: around took over in the city.\n",
      "Input: 커피는 필요 없다.\n",
      "Predicted translation: then, need to be met for coffee.\n",
      "Input: 일곱 명의 사망자가 발생했다.\n",
      "Predicted translation: seven seven were killed.\n",
      "Input: 투표는 시민의 권리이다\n",
      "Predicted translation: voting is the right.\n",
      "Input: 음주는 만성간염, 간경변증, 간암의 대표적인 원인이다.\n",
      "Predicted translation: the drinking dealing with two incidents that cause the ever, should be a factor in the case.\n",
      "Input: 친환경 에너지 정책을 펼쳐온 미국 조 바이든 행정부가 올 들어 석탄 사용량을 늘린 것으로 나타났다.\n",
      "Predicted translation: california, ohio true oil providers are struggling to be delivered to their fake degree labor administration, demanding scientists about using more oil use.\n",
      "Input: 박씨는 몇 년 전 국제마피아파를 탈퇴해 ‘관심 대상’으로 분류됐다고 한다.\n",
      "Predicted translation: she stayed steady international condemnation, a relay she works for international standards from international law.\n",
      "Input: 윤석열은 한국의 대통령 이다.\n",
      "Predicted translation: we are following a spate of south korean president roh moo hyun s latest attempt to build a majority.\n",
      "Input: AIFFEL 헤커톤 너무너무 힘들다.\n",
      "Predicted translation: a relative of technology from the labor station is too small to town\n"
     ]
    },
    {
     "data": {
      "application/vnd.jupyter.widget-view+json": {
       "model_id": "dd4b9211690f4ae0b17fd5a8ad0b476f",
       "version_major": 2,
       "version_minor": 0
      },
      "text/plain": [
       "  0%|          | 0/1182 [00:00<?, ?it/s]"
      ]
     },
     "metadata": {},
     "output_type": "display_data"
    },
    {
     "name": "stdout",
     "output_type": "stream",
     "text": [
      "Input: 오바마는 대통령이다.\n",
      "Predicted translation: obama is the only nation.\n",
      "Input: 시민들은 도시 속에 산다.\n",
      "Predicted translation: the city in the city of downtown\n",
      "Input: 커피는 필요 없다.\n",
      "Predicted translation: the need is necessary.\n",
      "Input: 일곱 명의 사망자가 발생했다.\n",
      "Predicted translation: seven people were killed.\n",
      "Input: 투표는 시민의 권리이다\n",
      "Predicted translation: the right is.\n",
      "Input: 음주는 만성간염, 간경변증, 간암의 대표적인 원인이다.\n",
      "Predicted translation: the drinking anti smoking measures is used as a market case of mad cow disease, is a traditional disorder, and the drugs.\n",
      "Input: 친환경 에너지 정책을 펼쳐온 미국 조 바이든 행정부가 올 들어 석탄 사용량을 늘린 것으로 나타났다.\n",
      "Predicted translation: warning wildlife has the use of un oil company oil providers say something did not have enough.\n",
      "Input: 박씨는 몇 년 전 국제마피아파를 탈퇴해 ‘관심 대상’으로 분류됐다고 한다.\n",
      "Predicted translation: park turned out a few years ago, ring leader of immigrants, in with .\n",
      "Input: 윤석열은 한국의 대통령 이다.\n",
      "Predicted translation: at the summit.\n",
      "Input: AIFFEL 헤커톤 너무너무 힘들다.\n",
      "Predicted translation: it was not unusual for a technology and supported penalties.\n"
     ]
    },
    {
     "data": {
      "application/vnd.jupyter.widget-view+json": {
       "model_id": "a1ccf343e7af4030b8445017c70232ff",
       "version_major": 2,
       "version_minor": 0
      },
      "text/plain": [
       "  0%|          | 0/1182 [00:00<?, ?it/s]"
      ]
     },
     "metadata": {},
     "output_type": "display_data"
    },
    {
     "name": "stdout",
     "output_type": "stream",
     "text": [
      "Input: 오바마는 대통령이다.\n",
      "Predicted translation: president\n",
      "Input: 시민들은 도시 속에 산다.\n",
      "Predicted translation: some city took the streets of the city.\n",
      "Input: 커피는 필요 없다.\n",
      "Predicted translation: it need no timetable.\n",
      "Input: 일곱 명의 사망자가 발생했다.\n",
      "Predicted translation: seven were killed in the clashes.\n",
      "Input: 투표는 시민의 권리이다\n",
      "Predicted translation: the vote\n",
      "Input: 음주는 만성간염, 간경변증, 간암의 대표적인 원인이다.\n",
      "Predicted translation: the dealing with the virus, contracts coming to jail, a term is a very common facility that statement as the cause of the victim s genome is relatively unknown holy case.\n",
      "Input: 친환경 에너지 정책을 펼쳐온 미국 조 바이든 행정부가 올 들어 석탄 사용량을 늘린 것으로 나타났다.\n",
      "Predicted translation: greening oil prices delivering another nine years early comfort from energy department, producing energy companies add little on carbon dioxide, according to a study chair.\n",
      "Input: 박씨는 몇 년 전 국제마피아파를 탈퇴해 ‘관심 대상’으로 분류됐다고 한다.\n",
      "Predicted translation: park physical fitness has become a label placed international occurred in the antarctic race nearly a few international events.\n",
      "Input: 윤석열은 한국의 대통령 이다.\n",
      "Predicted translation: all korean films are scheduled to host home grown.\n",
      "Input: AIFFEL 헤커톤 너무너무 힘들다.\n",
      "Predicted translation: he was not overnight in the fight.\n"
     ]
    },
    {
     "data": {
      "application/vnd.jupyter.widget-view+json": {
       "model_id": "7b7af9210ced4d4fbc2688c0227b76b7",
       "version_major": 2,
       "version_minor": 0
      },
      "text/plain": [
       "  0%|          | 0/1182 [00:00<?, ?it/s]"
      ]
     },
     "metadata": {},
     "output_type": "display_data"
    },
    {
     "name": "stdout",
     "output_type": "stream",
     "text": [
      "Input: 오바마는 대통령이다.\n",
      "Predicted translation: obama.\n",
      "Input: 시민들은 도시 속에 산다.\n",
      "Predicted translation: everybody in line to watch the massacre.\n",
      "Input: 커피는 필요 없다.\n",
      "Predicted translation: then need is needed.\n",
      "Input: 일곱 명의 사망자가 발생했다.\n",
      "Predicted translation: seven people were killed monday in the clashes.\n",
      "Input: 투표는 시민의 권리이다\n",
      "Predicted translation: the vote is the right small.\n",
      "Input: 음주는 만성간염, 간경변증, 간암의 대표적인 원인이다.\n",
      "Predicted translation: the drinking age was drinking water, causing environmental farmers, whose actions caused by causing serious failure to bring cold medicine.\n",
      "Input: 친환경 에너지 정책을 펼쳐온 미국 조 바이든 행정부가 올 들어 석탄 사용량을 늘린 것으로 나타났다.\n",
      "Predicted translation: among them energy workers from oil slamming into the united states for energy cutting off the edge of oil.\n",
      "Input: 박씨는 몇 년 전 국제마피아파를 탈퇴해 ‘관심 대상’으로 분류됐다고 한다.\n",
      "Predicted translation: park won a few years ago, playing among internationalers that international pressure and international events have developed countries.\n",
      "Input: 윤석열은 한국의 대통령 이다.\n",
      "Predicted translation: concerned with the south korean tourism south korean, a south korean civilian.\n",
      "Input: AIFFEL 헤커톤 너무너무 힘들다.\n",
      "Predicted translation: a walk of a child is just labor.\n"
     ]
    },
    {
     "data": {
      "application/vnd.jupyter.widget-view+json": {
       "model_id": "212ad2de28c84fb19b6e627a4704238a",
       "version_major": 2,
       "version_minor": 0
      },
      "text/plain": [
       "  0%|          | 0/1182 [00:00<?, ?it/s]"
      ]
     },
     "metadata": {},
     "output_type": "display_data"
    },
    {
     "name": "stdout",
     "output_type": "stream",
     "text": [
      "Input: 오바마는 대통령이다.\n",
      "Predicted translation: obama is president bush.\n",
      "Input: 시민들은 도시 속에 산다.\n",
      "Predicted translation: citizens took the pretty big cities in the town.\n",
      "Input: 커피는 필요 없다.\n",
      "Predicted translation: even need is necessary.\n",
      "Input: 일곱 명의 사망자가 발생했다.\n",
      "Predicted translation: seven seven seven people were killed.\n",
      "Input: 투표는 시민의 권리이다\n",
      "Predicted translation: voting is the right people.\n",
      "Input: 음주는 만성간염, 간경변증, 간암의 대표적인 원인이다.\n",
      "Predicted translation: the drinking was in the case of an indonesian, depression and a stable time facility for causing serious environmental conditions.\n",
      "Input: 친환경 에너지 정책을 펼쳐온 미국 조 바이든 행정부가 올 들어 석탄 사용량을 늘린 것으로 나타났다.\n",
      "Predicted translation: among them used oil policies, korea s energy regulator says if he cannot use a baby, then side on energy, there s no political relations.\n",
      "Input: 박씨는 몇 년 전 국제마피아파를 탈퇴해 ‘관심 대상’으로 분류됐다고 한다.\n",
      "Predicted translation: park is a few years ago in international efforts to become a international treaty in the southern suburbs center.\n",
      "Input: 윤석열은 한국의 대통령 이다.\n",
      "Predicted translation: all south korean films are usually the result.\n",
      "Input: AIFFEL 헤커톤 너무너무 힘들다.\n",
      "Predicted translation: a serve is not eating and too old for me.\n"
     ]
    },
    {
     "data": {
      "application/vnd.jupyter.widget-view+json": {
       "model_id": "5390649ad42c43e5bd4cb92a1751d891",
       "version_major": 2,
       "version_minor": 0
      },
      "text/plain": [
       "  0%|          | 0/1182 [00:00<?, ?it/s]"
      ]
     },
     "metadata": {},
     "output_type": "display_data"
    },
    {
     "name": "stdout",
     "output_type": "stream",
     "text": [
      "Input: 오바마는 대통령이다.\n",
      "Predicted translation: \n",
      "Input: 시민들은 도시 속에 산다.\n",
      "Predicted translation: some city city live in the city of san urbana.\n",
      "Input: 커피는 필요 없다.\n",
      "Predicted translation: the site is needed.\n",
      "Input: 일곱 명의 사망자가 발생했다.\n",
      "Predicted translation: seven of the dead were assigned to traffic battles.\n",
      "Input: 투표는 시민의 권리이다\n",
      "Predicted translation: voting rights is the right.\n",
      "Input: 음주는 만성간염, 간경변증, 간암의 대표적인 원인이다.\n",
      "Predicted translation: the drinking age or between the respond to examinations of the practice is five failed to agreement on a year old son of libyan fighters.\n",
      "Input: 친환경 에너지 정책을 펼쳐온 미국 조 바이든 행정부가 올 들어 석탄 사용량을 늘린 것으로 나타났다.\n",
      "Predicted translation: western diplomats have previously been united, turning more bad news for the united states on coal island, which farmers said key joining china.\n",
      "Input: 박씨는 몇 년 전 국제마피아파를 탈퇴해 ‘관심 대상’으로 분류됐다고 한다.\n",
      "Predicted translation: park is a major event in the world class church that second lieutenant a flight of center in rome that included flight center ago.\n",
      "Input: 윤석열은 한국의 대통령 이다.\n",
      "Predicted translation: rounding out there is a summit with korean politicians.\n",
      "Input: AIFFEL 헤커톤 너무너무 힘들다.\n",
      "Predicted translation: a relatively pakistan low issuing dangerous and wondering if necessary.\n"
     ]
    },
    {
     "data": {
      "application/vnd.jupyter.widget-view+json": {
       "model_id": "bbdba35745004618b970aa7f7904cab1",
       "version_major": 2,
       "version_minor": 0
      },
      "text/plain": [
       "  0%|          | 0/1182 [00:00<?, ?it/s]"
      ]
     },
     "metadata": {},
     "output_type": "display_data"
    },
    {
     "name": "stdout",
     "output_type": "stream",
     "text": [
      "Input: 오바마는 대통령이다.\n",
      "Predicted translation: obama will do that.\n",
      "Input: 시민들은 도시 속에 산다.\n",
      "Predicted translation: some city took the ban in the city.\n",
      "Input: 커피는 필요 없다.\n",
      "Predicted translation: the runway need great treatment.\n",
      "Input: 일곱 명의 사망자가 발생했다.\n",
      "Predicted translation: seven of the dead were from seven people.\n",
      "Input: 투표는 시민의 권리이다\n",
      "Predicted translation: voting are vote.\n",
      "Input: 음주는 만성간염, 간경변증, 간암의 대표적인 원인이다.\n",
      "Predicted translation: drinking smoking is to get strong investigations, commonly combination between smoking tissues, and the often contain debilitating agreement.\n",
      "Input: 친환경 에너지 정책을 펼쳐온 미국 조 바이든 행정부가 올 들어 석탄 사용량을 늘린 것으로 나타났다.\n",
      "Predicted translation: oil prices have sought several damages from collapsed, while others say the bush administration produced by america has spread on a personal level of carbon dioxide.\n",
      "Input: 박씨는 몇 년 전 국제마피아파를 탈퇴해 ‘관심 대상’으로 분류됐다고 한다.\n",
      "Predicted translation: park was a leader of a international committee event in when she was attacked by international events.\n",
      "Input: 윤석열은 한국의 대통령 이다.\n",
      "Predicted translation: yoon is the man with lee s visit.\n",
      "Input: AIFFEL 헤커톤 너무너무 힘들다.\n",
      "Predicted translation: a new york city coated is too dangerous.\n"
     ]
    },
    {
     "data": {
      "application/vnd.jupyter.widget-view+json": {
       "model_id": "441fc9b90fba4293b7bc531bb6c030de",
       "version_major": 2,
       "version_minor": 0
      },
      "text/plain": [
       "  0%|          | 0/1182 [00:00<?, ?it/s]"
      ]
     },
     "metadata": {},
     "output_type": "display_data"
    },
    {
     "name": "stdout",
     "output_type": "stream",
     "text": [
      "Input: 오바마는 대통령이다.\n",
      "Predicted translation: president obama is the president to get the president.\n",
      "Input: 시민들은 도시 속에 산다.\n",
      "Predicted translation: the city of bombings in the city of ended in the city of ended in the city of san city.\n",
      "Input: 커피는 필요 없다.\n",
      "Predicted translation: the caffeine is needed for coffee.\n",
      "Input: 일곱 명의 사망자가 발생했다.\n",
      "Predicted translation: seven of the seven astronauts were killed.\n",
      "Input: 투표는 시민의 권리이다\n",
      "Predicted translation: voting is the right of citizens.\n",
      "Input: 음주는 만성간염, 간경변증, 간암의 대표적인 원인이다.\n",
      "Predicted translation: the drinking age or between the one, often called mad cowen, six of often stable cancer, six to six party talks.\n",
      "Input: 친환경 에너지 정책을 펼쳐온 미국 조 바이든 행정부가 올 들어 석탄 사용량을 늘린 것으로 나타났다.\n",
      "Predicted translation: greening higher oil prices have another reason for america s oil industry, which represents farmers in the united states, accuses of being america from small energy sending us farmers almost baby.\n",
      "Input: 박씨는 몇 년 전 국제마피아파를 탈퇴해 ‘관심 대상’으로 분류됐다고 한다.\n",
      "Predicted translation: park was a leader in the world, then second, third party leader, predicted by human rights attempts in .\n",
      "Input: 윤석열은 한국의 대통령 이다.\n",
      "Predicted translation: i finish the summit is a president.\n",
      "Input: AIFFEL 헤커톤 너무너무 힘들다.\n",
      "Predicted translation: a town is labor forced too tree to be given the labor union.\n"
     ]
    },
    {
     "data": {
      "application/vnd.jupyter.widget-view+json": {
       "model_id": "a6107dcfdc5046cca7b03b915d363e42",
       "version_major": 2,
       "version_minor": 0
      },
      "text/plain": [
       "  0%|          | 0/1182 [00:00<?, ?it/s]"
      ]
     },
     "metadata": {},
     "output_type": "display_data"
    },
    {
     "name": "stdout",
     "output_type": "stream",
     "text": [
      "Input: 오바마는 대통령이다.\n",
      "Predicted translation: president obama is the president\n",
      "Input: 시민들은 도시 속에 산다.\n",
      "Predicted translation: city took over the bridge in line in the city.\n",
      "Input: 커피는 필요 없다.\n",
      "Predicted translation: the coffee is necessary.\n",
      "Input: 일곱 명의 사망자가 발생했다.\n",
      "Predicted translation: seven deaths were in seven deaths.\n",
      "Input: 투표는 시민의 권리이다\n",
      "Predicted translation: voting rights are rights in the vote.\n",
      "Input: 음주는 만성간염, 간경변증, 간암의 대표적인 원인이다.\n",
      "Predicted translation: the drinking age old or is wounding two benefits of the northeast, often involved in the year s containy claimed seven benefits.\n",
      "Input: 친환경 에너지 정책을 펼쳐온 미국 조 바이든 행정부가 올 들어 석탄 사용량을 늘린 것으로 나타났다.\n",
      "Predicted translation: he has green pro western oil wells fargo, a government foundation of america s seal on its bad oil use, which includes u.s. labor related mass mistake.\n",
      "Input: 박씨는 몇 년 전 국제마피아파를 탈퇴해 ‘관심 대상’으로 분류됐다고 한다.\n",
      "Predicted translation: park turned herself in to international crash in , second place, third placed member video on .\n",
      "Input: 윤석열은 한국의 대통령 이다.\n",
      "Predicted translation: i speak to the korea post, official yoon, was a south korean presidential office.\n",
      "Input: AIFFEL 헤커톤 너무너무 힘들다.\n",
      "Predicted translation: a town crew was thrown too late to dangerous.\n"
     ]
    },
    {
     "data": {
      "application/vnd.jupyter.widget-view+json": {
       "model_id": "e948813a559b4699a9d9d44b30668a39",
       "version_major": 2,
       "version_minor": 0
      },
      "text/plain": [
       "  0%|          | 0/1182 [00:00<?, ?it/s]"
      ]
     },
     "metadata": {},
     "output_type": "display_data"
    },
    {
     "name": "stdout",
     "output_type": "stream",
     "text": [
      "Input: 오바마는 대통령이다.\n",
      "Predicted translation: president obama is a big president.\n",
      "Input: 시민들은 도시 속에 산다.\n",
      "Predicted translation: citizens are in the city in an city.\n",
      "Input: 커피는 필요 없다.\n",
      "Predicted translation: the need is necessary.\n",
      "Input: 일곱 명의 사망자가 발생했다.\n",
      "Predicted translation: seven deaths were all among the dead.\n",
      "Input: 투표는 시민의 권리이다\n",
      "Predicted translation: voting are the right.\n",
      "Input: 음주는 만성간염, 간경변증, 간암의 대표적인 원인이다.\n",
      "Predicted translation: the drinking age is organized under an agreement between college imports, such as park burial year old between the two sides.\n",
      "Input: 친환경 에너지 정책을 펼쳐온 미국 조 바이든 행정부가 올 들어 석탄 사용량을 늘린 것으로 나타났다.\n",
      "Predicted translation: i know higher environmentally friendly wreckage\n",
      "Input: 박씨는 몇 년 전 국제마피아파를 탈퇴해 ‘관심 대상’으로 분류됐다고 한다.\n",
      "Predicted translation: hong seok hyun, , is the international community second international party of do not according to the international committee.\n",
      "Input: 윤석열은 한국의 대통령 이다.\n",
      "Predicted translation: all south korean films are will fire this morning.\n",
      "Input: AIFFEL 헤커톤 너무너무 힘들다.\n",
      "Predicted translation: a serve is supposed toy with her rocking the base.\n"
     ]
    },
    {
     "data": {
      "application/vnd.jupyter.widget-view+json": {
       "model_id": "f1cd5eef9a3e41d6a5ef83a5e232acac",
       "version_major": 2,
       "version_minor": 0
      },
      "text/plain": [
       "  0%|          | 0/1182 [00:00<?, ?it/s]"
      ]
     },
     "metadata": {},
     "output_type": "display_data"
    },
    {
     "name": "stdout",
     "output_type": "stream",
     "text": [
      "Input: 오바마는 대통령이다.\n",
      "Predicted translation: obama on his way.\n",
      "Input: 시민들은 도시 속에 산다.\n",
      "Predicted translation: some people city live in the city.\n",
      "Input: 커피는 필요 없다.\n",
      "Predicted translation: the need is necessary.\n",
      "Input: 일곱 명의 사망자가 발생했다.\n",
      "Predicted translation: seven seven people were killed monday.\n",
      "Input: 투표는 시민의 권리이다\n",
      "Predicted translation: voting is the right to .\n",
      "Input: 음주는 만성간염, 간경변증, 간암의 대표적인 원인이다.\n",
      "Predicted translation: the drinking contains the treatment of one of the suspects should be an accidental overdose and their separate daughter.\n",
      "Input: 친환경 에너지 정책을 펼쳐온 미국 조 바이든 행정부가 올 들어 석탄 사용량을 늘린 것으로 나타났다.\n",
      "Predicted translation: america s policies have been used in oil prices, patients often have to coal, america s ties with the america administration continues to increase the storm.\n",
      "Input: 박씨는 몇 년 전 국제마피아파를 탈퇴해 ‘관심 대상’으로 분류됐다고 한다.\n",
      "Predicted translation: park is a few years ago, party leader park she said that floating in international community nearly international party forces.\n",
      "Input: 윤석열은 한국의 대통령 이다.\n",
      "Predicted translation: all thai security koreans are officers in south korea.\n",
      "Input: AIFFEL 헤커톤 너무너무 힘들다.\n",
      "Predicted translation: andy drinks without extremism is so does so does virtually zero.\n"
     ]
    },
    {
     "data": {
      "application/vnd.jupyter.widget-view+json": {
       "model_id": "075dcbb0488a48cdb02397573ecaf4c3",
       "version_major": 2,
       "version_minor": 0
      },
      "text/plain": [
       "  0%|          | 0/1182 [00:00<?, ?it/s]"
      ]
     },
     "metadata": {},
     "output_type": "display_data"
    },
    {
     "name": "stdout",
     "output_type": "stream",
     "text": [
      "Input: 오바마는 대통령이다.\n",
      "Predicted translation: president obama is on january .\n",
      "Input: 시민들은 도시 속에 산다.\n",
      "Predicted translation: some city streets are everywhere in the city.\n",
      "Input: 커피는 필요 없다.\n",
      "Predicted translation: the need is needed.\n",
      "Input: 일곱 명의 사망자가 발생했다.\n",
      "Predicted translation: seven people were killed in the seven death toll.\n",
      "Input: 투표는 시민의 권리이다\n",
      "Predicted translation: voting is the right voting.\n",
      "Input: 음주는 만성간염, 간경변증, 간암의 대표적인 원인이다.\n",
      "Predicted translation: the drinking age drinking between smoking and floods, the practice is not contain guilty plea in the drugs.\n",
      "Input: 친환경 에너지 정책을 펼쳐온 미국 조 바이든 행정부가 올 들어 석탄 사용량을 늘린 것으로 나타났다.\n",
      "Predicted translation: america s policies have been warned of another . trillion budget, while under the contains large gas reserves.\n",
      "Input: 박씨는 몇 년 전 국제마피아파를 탈퇴해 ‘관심 대상’으로 분류됐다고 한다.\n",
      "Predicted translation: park ran early will have a leader effect priorities since warmer reception into international events.\n",
      "Input: 윤석열은 한국의 대통령 이다.\n",
      "Predicted translation: i material the place south korean president lee myung bak.\n",
      "Input: AIFFEL 헤커톤 너무너무 힘들다.\n",
      "Predicted translation: andy drinks holds on the were unable.\n",
      "Input: AIFFEL 헤커톤 너무너무 힘들다.\n",
      "Predicted translation: andy drinks holds on the were unable.\n",
      "Encoder Layer 1\n"
     ]
    },
    {
     "name": "stderr",
     "output_type": "stream",
     "text": [
      "C:\\Users\\Noah\\anaconda3\\envs\\mecab_Aiffel\\lib\\site-packages\\seaborn\\utils.py:95: UserWarning: Glyph 9601 (\\N{LOWER ONE EIGHTH BLOCK}) missing from current font.\n",
      "  fig.canvas.draw()\n",
      "C:\\Users\\Noah\\anaconda3\\envs\\mecab_Aiffel\\lib\\site-packages\\IPython\\core\\pylabtools.py:151: UserWarning: Glyph 9601 (\\N{LOWER ONE EIGHTH BLOCK}) missing from current font.\n",
      "  fig.canvas.print_figure(bytes_io, **kw)\n"
     ]
    },
    {
     "data": {
      "image/png": "[encoded data removed]",
      "text/plain": [
       "<Figure size 1440x720 with 4 Axes>"
      ]
     },
     "metadata": {
      "image/png": {
       "height": 307,
       "width": 1181
      }
     },
     "output_type": "display_data"
    },
    {
     "name": "stdout",
     "output_type": "stream",
     "text": [
      "Encoder Layer 2\n"
     ]
    },
    {
     "data": {
      "image/png": "[encoded data removed]",
      "text/plain": [
       "<Figure size 1440x720 with 4 Axes>"
      ]
     },
     "metadata": {
      "image/png": {
       "height": 307,
       "width": 1181
      }
     },
     "output_type": "display_data"
    },
    {
     "name": "stdout",
     "output_type": "stream",
     "text": [
      "Decoder Self Layer 1\n"
     ]
    },
    {
     "data": {
      "image/png": "[encoded data removed]",
      "text/plain": [
       "<Figure size 1440x720 with 4 Axes>"
      ]
     },
     "metadata": {
      "image/png": {
       "height": 276,
       "width": 1151
      }
     },
     "output_type": "display_data"
    },
    {
     "name": "stdout",
     "output_type": "stream",
     "text": [
      "Decoder Src Layer 1\n"
     ]
    },
    {
     "data": {
      "image/png": "[encoded data removed]",
      "text/plain": [
       "<Figure size 1440x720 with 4 Axes>"
      ]
     },
     "metadata": {
      "image/png": {
       "height": 219,
       "width": 1177
      }
     },
     "output_type": "display_data"
    },
    {
     "name": "stdout",
     "output_type": "stream",
     "text": [
      "Decoder Self Layer 2\n"
     ]
    },
    {
     "data": {
      "image/png": "[encoded data removed]",
      "text/plain": [
       "<Figure size 1440x720 with 4 Axes>"
      ]
     },
     "metadata": {
      "image/png": {
       "height": 276,
       "width": 1151
      }
     },
     "output_type": "display_data"
    },
    {
     "name": "stdout",
     "output_type": "stream",
     "text": [
      "Decoder Src Layer 2\n"
     ]
    },
    {
     "data": {
      "image/png": "[encoded data removed]",
      "text/plain": [
       "<Figure size 1440x720 with 4 Axes>"
      ]
     },
     "metadata": {
      "image/png": {
       "height": 219,
       "width": 1177
      }
     },
     "output_type": "display_data"
    }
   ],
   "source": [
    "# 학습\n",
    "\n",
    "from tqdm import tqdm_notebook \n",
    "\n",
    "BATCH_SIZE = 64\n",
    "EPOCHS = 20\n",
    "\n",
    "examples = [\n",
    "            \"오바마는 대통령이다.\",\n",
    "            \"시민들은 도시 속에 산다.\",\n",
    "            \"커피는 필요 없다.\",\n",
    "            \"일곱 명의 사망자가 발생했다.\",\n",
    "            \"투표는 시민의 권리이다\",\n",
    "            \"음주는 만성간염, 간경변증, 간암의 대표적인 원인이다.\",\n",
    "            \"친환경 에너지 정책을 펼쳐온 미국 조 바이든 행정부가 올 들어 석탄 사용량을 늘린 것으로 나타났다.\",\n",
    "            \"박씨는 몇 년 전 국제마피아파를 탈퇴해 ‘관심 대상’으로 분류됐다고 한다.\",\n",
    "            \"윤석열은 한국의 대통령 이다.\",\n",
    "            \"AIFFEL 헤커톤 너무너무 힘들다.\"\n",
    "]\n",
    "\n",
    "for epoch in range(EPOCHS):\n",
    "    total_loss = 0\n",
    "    \n",
    "    idx_list = list(range(0, enc_train.shape[0], BATCH_SIZE))\n",
    "    random.shuffle(idx_list)\n",
    "    t = tqdm(idx_list)\n",
    "\n",
    "    for (batch, idx) in enumerate(t):\n",
    "        batch_loss, enc_attns, dec_attns, dec_enc_attns = \\\n",
    "        train_step(enc_train[idx:idx+BATCH_SIZE],\n",
    "                    dec_train[idx:idx+BATCH_SIZE],\n",
    "                    transformer,\n",
    "                    optimizer)\n",
    "\n",
    "        total_loss += batch_loss\n",
    "        \n",
    "        t.set_description_str('Epoch %2d' % (epoch + 1))\n",
    "        t.set_postfix_str('Loss %.4f' % (total_loss.numpy() / (batch + 1)))\n",
    "\n",
    "    for example in examples:\n",
    "        translate(example, transformer, ko_tokenizer, en_tokenizer)\n",
    "    \n",
    "    if epoch == EPOCHS -1 : translate(example, transformer, ko_tokenizer, en_tokenizer, True)\n",
    "        \n"
   ]
  },
  {
   "cell_type": "code",
   "execution_count": 35,
   "id": "infrared-wireless",
   "metadata": {
    "scrolled": true
   },
   "outputs": [
    {
     "name": "stdout",
     "output_type": "stream",
     "text": [
      "총 작업 소요 시간은 약 2407초입니다.\n"
     ]
    }
   ],
   "source": [
    "end_time = time.time()\n",
    "work_time = round(end_time - start_time)\n",
    "print(f'총 작업 소요 시간은 약 {work_time}초입니다.')"
   ]
  },
  {
   "cell_type": "markdown",
   "id": "essential-retirement",
   "metadata": {},
   "source": [
    "# 4. 결과\n",
    "### Translations\n",
    "1. 오바마는 대통령이다. \n",
    "    > Predicted translation: obama is president.\n",
    "2. 시민들은 도시 속에 산다. \n",
    "    > Predicted translation: citizens part of the san corporate\n",
    "3. 커피는 필요 없다. \n",
    "    > Predicted translation: there s no need to be adopted.\n",
    "4. 일곱 명의 사망자가 발생했다. \n",
    "    > Predicted translation: seven people were killed on saturday.\n",
    "5. 투표는 시민의 권리이다. \n",
    "    > Predicted translation: the only voted a rights.\n",
    "6. 음주는 만성간염, 간경변증, 간암의 대표적인 원인이다. \n",
    "    > Predicted translation: the health care consists of million people over the last decade, as most of which is forecast of the way of last frontier guangdong university.\n",
    "7. 친환경 에너지 정책을 펼쳐온 미국 조 바이든 행정부가 올 들어 석탄 사용량을 늘린 것으로 나타났다. \n",
    "    > Predicted translation: instead, the energy efficient talkings now used his administration to remove itself of energy principles, like the goal of a first round of energy.\n",
    "8. 박씨는 몇 년 전 국제마피아파를 탈퇴해 ‘관심 대상’으로 분류됐다고 한다. \n",
    "    > Predicted translation: park had a leading mass posts in the international community, park free former soviet\n",
    "\n",
    "### Hyperparameters\n",
    "- n_layers: 2\n",
    "- d_model: 512\n",
    "- n_heads: 8\n",
    "- d_ff: 2048\n",
    "- dropout: 0.2\n",
    "\n",
    "### Training Parameters\n",
    "- Warmup Steps: 4000\n",
    "- Batch Size: 64\n",
    "- Epoch At: 19"
   ]
  },
  {
   "cell_type": "markdown",
   "id": "separate-satin",
   "metadata": {},
   "source": [
    "- 2개의 층만 쌓은 Transformer의 결과는 한국어 문장을 영어 문장으로 완벽히 번역해내지는 못했지만, 문법적으로 왠만큼 잘 들어맞으며 P04에서 실습한 BahdanauAttention model(n_layers: 2, d_model: 512, Batch Size: 64, Epoch At: 10)에 비해 문맥에 어울리는 번역을 해내는 것을 확인할 수 있습니다.\n",
    "- 논문에서는 인코더와 디코더를 각각 6개를 사용하기 때문에, n_layers를 늘리면 성능이 향상될 것으로 짐작됩니다. 또한 훈련 시간을 줄이기 위해, 토큰의 길이를 임의로 50으로 제한했지만, 길이분포를 분석하여 적절한 토큰 길이를 파악할 수 있습니다. "
   ]
  },
  {
   "cell_type": "markdown",
   "id": "assured-spine",
   "metadata": {},
   "source": [
    "|평가문항|상세기준|\n",
    "|---|---|\n",
    "|1. 번역기 모델 학습에 필요한 텍스트 데이터 전처리가 잘 이루어졌다.|데이터 정제, SentencePiece를 활용한 토큰화 및 데이터셋 구축의 과정이 지시대로 진행되었다.|\n",
    "|2. Transformer 번역기 모델이 정상적으로 구동된다.|Transformer 모델의 학습과 추론 과정이 정상적으로 진행되어, 한-영 번역기능이 정상 동작한다.|\n",
    "|3. 테스트 결과 의미가 통하는 수준의 번역문이 생성되었다.|제시된 문장에 대한 그럴듯한 영어 번역문이 생성되며, 시각화된 Attention Map으로 결과를 뒷받침한다.|"
   ]
  },
  {
   "cell_type": "markdown",
   "id": "conscious-windows",
   "metadata": {},
   "source": [
    "전체적인 학습속도는 빠르다고 느꼈으며 n_layer, vocab_size, batch_size, epochs을 전체적으로 값을 다 올려본다면 더 좋은 성능을 기대할 수 있을 것이라 예상된다."
   ]
  },
  {
   "cell_type": "markdown",
   "id": "nonprofit-hardwood",
   "metadata": {},
   "source": [
    "# 참고\n",
    "* [딥러닝을 위한 자연어처리 위키독스](https://wikidocs.net/86657)\n",
    "* [TensorFlow 공식홈페이지 : 언어 이해를 위한 Transfomer 모델](https://www.tensorflow.org/text/tutorials/transformer)"
   ]
  }
 ],
 "metadata": {
  "kernelspec": {
   "display_name": "Python 3 (ipykernel)",
   "language": "python",
   "name": "python3"
  },
  "language_info": {
   "codemirror_mode": {
    "name": "ipython",
    "version": 3
   },
   "file_extension": ".py",
   "mimetype": "text/x-python",
   "name": "python",
   "nbconvert_exporter": "python",
   "pygments_lexer": "ipython3",
   "version": "3.8.0"
  }
 },
 "nbformat": 4,
 "nbformat_minor": 5
}
